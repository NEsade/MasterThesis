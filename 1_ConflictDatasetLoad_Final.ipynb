{
 "cells": [
  {
   "cell_type": "markdown",
   "metadata": {
    "id": "wwMsznlfSSRF"
   },
   "source": [
    "## GDELT Data Load "
   ]
  },
  {
   "cell_type": "markdown",
   "metadata": {
    "id": "L09yyssXSSRG"
   },
   "source": [
    "### 1) GDELT Header File\n",
    "The daily GDELT csv files do not contain a header. The data header file is separately maintained and the column names are parsed into the correct format as a first step. \n",
    "- Column data: https://www.gdeltproject.org/data/lookups/CSV.header.dailyupdates.txt"
   ]
  },
  {
   "cell_type": "code",
   "execution_count": 1,
   "metadata": {
    "id": "mGGivlHnSSRH"
   },
   "outputs": [],
   "source": [
    "#import necessary packages\n",
    "import pandas as pd\n",
    "import numpy as np\n",
    "import matplotlib.pyplot as plt\n",
    "%matplotlib inline\n",
    "import requests\n",
    "import bs4\n",
    "import tensorflow as tf\n",
    "import sys "
   ]
  },
  {
   "cell_type": "code",
   "execution_count": 2,
   "metadata": {
    "id": "ffootVWF6E5l"
   },
   "outputs": [],
   "source": [
    "#read the header file for the GDELT data\n",
    "columns = pd.read_excel('CSV.header.fieldids.xlsx')"
   ]
  },
  {
   "cell_type": "code",
   "execution_count": 3,
   "metadata": {
    "id": "jf4BiS9qSSRI"
   },
   "outputs": [],
   "source": [
    "#write all column names into a list for later processing. This list will be used to process all GDELT data after 2013\n",
    "column_names = list(columns)"
   ]
  },
  {
   "cell_type": "code",
   "execution_count": 4,
   "metadata": {},
   "outputs": [],
   "source": [
    "#remove the last item from the column_names list as GDELT files prior to 2013 come without the last column, the Source URL\n",
    "old_column_names = column_names.copy()\n",
    "del old_column_names[-1]"
   ]
  },
  {
   "cell_type": "markdown",
   "metadata": {
    "id": "y_Otl-btSSRM"
   },
   "source": [
    "### 2) GDELT Website Scraper\n",
    "A website scraper is built to autmatically extract the daily csv files, removing the need to manually download all files and read them into the notebook.\n",
    "- Conflict Data: http://data.gdeltproject.org/events/index.html"
   ]
  },
  {
   "cell_type": "code",
   "execution_count": null,
   "metadata": {
    "id": "6NurX_15SSRN"
   },
   "outputs": [],
   "source": [
    "#retrieve the HTML code behind the GDELT website with the beautiful soup library\n",
    "link = 'http://data.gdeltproject.org/events/index.html'\n",
    "\n",
    "sys.setrecursionlimit(100000) \n",
    "\n",
    "def get_html_code(link):\n",
    "    web_pages = requests.get(link).text\n",
    "    soup = bs4.BeautifulSoup(web_pages, 'html.parser')\n",
    "    return soup\n",
    "\n",
    "soup = get_html_code(link)"
   ]
  },
  {
   "cell_type": "code",
   "execution_count": null,
   "metadata": {
    "colab": {
     "base_uri": "https://localhost:8080/"
    },
    "id": "IgtxzPmlSSRN",
    "outputId": "561b64b7-0ba9-43f4-d5bd-9587d83ee999"
   },
   "outputs": [],
   "source": [
    "#further filter the created object on the anchor tag to retrieve the URLs for the individual files\n",
    "def get_csv_files(soup):\n",
    "    return soup.find_all('a')\n",
    "\n",
    "get_csv_files(get_html_code(url))"
   ]
  },
  {
   "cell_type": "code",
   "execution_count": null,
   "metadata": {
    "id": "Mmdrz84_SSRO"
   },
   "outputs": [],
   "source": [
    "#indicate the number of files that should be laoded, with 0 being the most recent file\n",
    "x = 0\n",
    "y = 3500 #1500"
   ]
  },
  {
   "cell_type": "code",
   "execution_count": null,
   "metadata": {
    "colab": {
     "base_uri": "https://localhost:8080/",
     "height": 37
    },
    "id": "ov6BMYXCSSRO",
    "outputId": "fb9dd5e5-c1dd-4f2e-b722-1a01726ff0cb"
   },
   "outputs": [],
   "source": [
    "#create the complete download link for each file by extracing the relevant information from the anchor tag and concatenating\n",
    "#it with the base URL \n",
    " \n",
    "all_url = soup.find_all('a',href = True)\n",
    "all_url = all_url[3:]\n",
    "download_links = []\n",
    "base_url = 'http://data.gdeltproject.org/events/'\n",
    "\n",
    "for i in range(x,y):\n",
    "    download_links.append(base_url + all_url[i]['href'])\n",
    "    "
   ]
  },
  {
   "cell_type": "code",
   "execution_count": null,
   "metadata": {},
   "outputs": [],
   "source": [
    "#with this cell, it can be checked starting at which index of the download_links list files in the old format are present. \n",
    "#this is relevant for the data load as the old files have 57 instead of 58 columns \n",
    "#the download_links list changes each day when executed as a new file gets added each day\n",
    "download_links.index('http://data.gdeltproject.org/events/20130401.export.CSV.zip')\n"
   ]
  },
  {
   "cell_type": "code",
   "execution_count": null,
   "metadata": {
    "id": "Najn392XSSRP"
   },
   "outputs": [],
   "source": [
    "#define correct type of the attributes to speed up processing for the dataframe creation\n",
    "variables = {'MonthYear':int,\n",
    "             'SQLDATE': int, \n",
    "             'EventCode': str, \n",
    "             'Year': int,\n",
    "             'QuadClass': int,\n",
    "             'GoldsteinScale': float,\n",
    "             'ActionGeo_CountryCode': str, \n",
    "             'ActionGeo_ADM1Code': str,\n",
    "             'Actor1Code': str, \n",
    "             'Actor2Code': str,\n",
    "             }"
   ]
  },
  {
   "cell_type": "code",
   "execution_count": null,
   "metadata": {
    "id": "MoUPTqf7SSRU"
   },
   "outputs": [],
   "source": [
    "#select relevant columns and write them into a list \n",
    "\n",
    "columns = ['SQLDATE', 'MonthYear', 'Year', 'EventCode', 'QuadClass',\n",
    "       'GoldsteinScale','ActionGeo_CountryCode', 'ActionGeo_ADM1Code', 'Actor1Code', 'Actor2Code']"
   ]
  },
  {
   "cell_type": "code",
   "execution_count": null,
   "metadata": {},
   "outputs": [],
   "source": [
    "#write the country abbreviations for the selected countries into a list as well \n",
    "country_list = ['WI', 'MR', 'ML', 'SG', 'GA', 'PU', 'GV', 'EK', 'SL', 'LI', 'IV', 'UV', 'GH', 'TO', 'BN']"
   ]
  },
  {
   "cell_type": "code",
   "execution_count": null,
   "metadata": {},
   "outputs": [],
   "source": [
    "#function to get download links for the specified timeframe\n",
    "\n",
    "def downloads(soup_object, range_start, range_end):\n",
    "\n",
    "    all_links = soup_object.find_all('a',href = True)\n",
    "    all_links = all_links[3:]\n",
    "    urls = []\n",
    "    download_links = []\n",
    "    base_url = 'http://data.gdeltproject.org/events/'\n",
    "\n",
    "    for i in range(range_start,range_end):\n",
    "        download_links.append(base_url + all_links[i]['href'])#urls[i])\n",
    "    \n",
    "    return download_links"
   ]
  },
  {
   "cell_type": "code",
   "execution_count": null,
   "metadata": {},
   "outputs": [],
   "source": [
    "#function to load data into dataframes for the specified timeframe\n",
    "\n",
    "#downloading conflicts for all the relevant countries and filter on Quad Class and Goldstein Scale \n",
    "### NOTE: use either column_names or column_names_old \n",
    "\n",
    "def load_data(download_links, range_start, range_end): \n",
    "    final_df = pd.DataFrame()\n",
    "    dataframes = []\n",
    "    fields = columns\n",
    "\n",
    "    for i in range(range_start,range_end):\n",
    "        print(i)\n",
    "        df_temp = pd.read_csv(download_links[i],sep='\\t',error_bad_lines=False, names = column_names, usecols = columns, dtype = variables)\n",
    "        df_temp = df_temp[(df_temp['ActionGeo_CountryCode'].isin(country_list)) & \n",
    "                          ((df_temp['QuadClass'] == 3) | (df_temp['QuadClass'] == 4)) & \n",
    "                         ((df_temp['GoldsteinScale'] < -5))]\n",
    "    \n",
    "        df_temp = df_temp.drop_duplicates(keep='first')\n",
    "        dataframes.append(df_temp)\n",
    "        df_temp = []\n",
    "    final_df = pd.concat(dataframes)\n",
    "    \n",
    "    return final_df"
   ]
  },
  {
   "cell_type": "code",
   "execution_count": null,
   "metadata": {},
   "outputs": [],
   "source": [
    "#loading the data for the first 7 years (2022 - 2014) and saving the resulting dataframe as a pickle file for an optimized \n",
    "#read/write performance\n",
    "\n",
    "z = 7\n",
    "\n",
    "for j in range(0, z):\n",
    "    x = 365*j\n",
    "    y = 365+ 365*j\n",
    "    \n",
    "    links = downloads(soup, x, y)\n",
    "    df = load_data(links, 0, 365)\n",
    "    \n",
    "    path_yearly = 'df' + str(j) + 'b' + '.pickle'\n",
    "    \n",
    "    df.to_pickle(path = path_yearly)"
   ]
  },
  {
   "cell_type": "code",
   "execution_count": null,
   "metadata": {},
   "outputs": [],
   "source": [
    "#additional files that are not captured above until 20130401 are loaded into the respective dataframes and pickle files\n",
    "links = downloads(soup, 2920, 3431)\n",
    "print(links[0])\n",
    "print(links[-1])\n",
    "\n",
    "df = load_data(links, 0, 507)\n",
    "path_yearly = 'df' + str(8) + 'b' + '.pickle'\n",
    "df.to_pickle(path = path_yearly)\n",
    "\n",
    "links = downloads(soup, 3427, 3431)\n",
    "df = load_data(links, 0, 4)\n",
    "path_yearly = 'df' + str(8) + 'c' + '.pickle'\n",
    "df.to_pickle(path = path_yearly)"
   ]
  },
  {
   "cell_type": "code",
   "execution_count": null,
   "metadata": {},
   "outputs": [],
   "source": [
    "#function to load data into dataframes for the specified timeframe in the old file format\n",
    "#downloading conflicts for all the relevant countries and filter on Quad Class and Goldstein Scale \n",
    "\n",
    "def load_old_data(download_links, range_start, range_end): \n",
    "    final_df = pd.DataFrame()\n",
    "    dataframes = []\n",
    "    fields = columns\n",
    "\n",
    "    for i in range(range_start,range_end):\n",
    "        print(i)\n",
    "        df_temp = pd.read_csv(download_links[i],sep='\\t',error_bad_lines=False, names = old_column_names, usecols = columns, dtype = variables)\n",
    "        df_temp = df_temp[(df_temp['ActionGeo_CountryCode'].isin(country_list)) & \n",
    "                          ((df_temp['QuadClass'] == 3) | (df_temp['QuadClass'] == 4)) & \n",
    "                         ((df_temp['GoldsteinScale'] < -5))]\n",
    "    \n",
    "        df_temp = df_temp.drop_duplicates(keep='first')\n",
    "        dataframes.append(df_temp)\n",
    "        df_temp = []\n",
    "    final_df = pd.concat(dataframes)\n",
    "    \n",
    "    return final_df"
   ]
  },
  {
   "cell_type": "code",
   "execution_count": null,
   "metadata": {},
   "outputs": [],
   "source": [
    "#download the old data files and write them into the respective pickle file\n",
    "\n",
    "links = downloads(soup, 3431, 3544)\n",
    "df = load_old_data(links, 0, 113)\n",
    "path_yearly = 'df' + str(9) + \"b\" + '.pickle'\n",
    "    \n",
    "df.to_pickle(path = path_yearly)\n"
   ]
  },
  {
   "cell_type": "code",
   "execution_count": null,
   "metadata": {},
   "outputs": [],
   "source": [
    "#read the files that were created in the Data Loading Python Notebook into separate dataframes\n",
    "df0 = pd.read_pickle('df0b.pickle')\n",
    "df1 = pd.read_pickle('df1b.pickle')\n",
    "df2 = pd.read_pickle('df2b.pickle')\n",
    "df3 = pd.read_pickle('df3b.pickle')\n",
    "df4 = pd.read_pickle('df4b.pickle')\n",
    "df5 = pd.read_pickle('df5b.pickle')\n",
    "df6 = pd.read_pickle('df6b.pickle')\n",
    "df7 = pd.read_pickle('df7b.pickle')\n",
    "df8 = pd.read_pickle('df8b.pickle')\n",
    "df8b = pd.read_pickle('df8c.pickle')\n",
    "df9 = pd.read_pickle('df9b.pickle')"
   ]
  },
  {
   "cell_type": "code",
   "execution_count": null,
   "metadata": {},
   "outputs": [],
   "source": [
    "#merge all dataframes & check the total length\n",
    "df_complete = pd.concat([df0, df1, df2, df3, df4, df5, df6, df7, df8, df8b, df9], axis=0)\n",
    "len(df_complete)"
   ]
  },
  {
   "cell_type": "code",
   "execution_count": null,
   "metadata": {},
   "outputs": [],
   "source": [
    "#export the downloaded and merged dataset into one new dataframe which is used as an input for the 2nd notebook\n",
    "df_complete.to_pickle(path = 'df_complete.pickle')"
   ]
  },
  {
   "cell_type": "markdown",
   "metadata": {},
   "source": [
    "### 3) Scatterplot for Goldstein Scale and Quad Class\n",
    "To get an idea of how Goldstein score and Quad Class are related, a scatterplot between both variables is created based on the GDELT file for one day. "
   ]
  },
  {
   "cell_type": "code",
   "execution_count": 12,
   "metadata": {},
   "outputs": [
    {
     "name": "stderr",
     "output_type": "stream",
     "text": [
      "C:\\Users\\Shadow\\AppData\\Local\\Temp\\ipykernel_6780\\2715337392.py:4: FutureWarning: The error_bad_lines argument has been deprecated and will be removed in a future version. Use on_bad_lines in the future.\n",
      "\n",
      "\n",
      "  df = pd.read_csv(daily_url,sep='\\t',error_bad_lines=False,names=column_names)\n"
     ]
    }
   ],
   "source": [
    "#read one GDELT file into a dataframe\n",
    "daily_url = 'http://data.gdeltproject.org/events/20220927.export.CSV.zip'\n",
    "\n",
    "df = pd.read_csv(daily_url,sep='\\t',error_bad_lines=False,names=column_names)"
   ]
  },
  {
   "cell_type": "code",
   "execution_count": 14,
   "metadata": {},
   "outputs": [],
   "source": [
    "#replace numeric codes with the descriptions\n",
    "df['QuadClass'].replace({1: \"Verbal Cooperation\", 2: \"Material Cooperation\", \n",
    "                         3: \"Verbal Conflict\", 4: \"Material Conflict\"}, inplace = True)"
   ]
  },
  {
   "cell_type": "code",
   "execution_count": 16,
   "metadata": {},
   "outputs": [
    {
     "data": {
      "image/png": "[encoded data removed]",
      "text/plain": [
       "<Figure size 800x800 with 1 Axes>"
      ]
     },
     "metadata": {},
     "output_type": "display_data"
    }
   ],
   "source": [
    "#create scatterplot QuadClass by Goldstein Scale \n",
    "\n",
    "fig = plt.figure(figsize = (8,8))\n",
    "\n",
    "plt.scatter(df['QuadClass'], df['GoldsteinScale'])\n",
    "plt.title('Quad Class and Goldstein Scale')\n",
    "plt.xlabel('Quad Class')\n",
    "plt.ylabel('Goldstein Scale')\n",
    "plt.show() "
   ]
  }
 ],
 "metadata": {
  "colab": {
   "collapsed_sections": [
    "oNy2eB1zSSRb",
    "lW_oxdz0SSRd"
   ],
   "name": "Conflict Data Analysis_2.ipynb",
   "provenance": []
  },
  "gpuClass": "standard",
  "kernelspec": {
   "display_name": "Python 3 (ipykernel)",
   "language": "python",
   "name": "python3"
  },
  "language_info": {
   "codemirror_mode": {
    "name": "ipython",
    "version": 3
   },
   "file_extension": ".py",
   "mimetype": "text/x-python",
   "name": "python",
   "nbconvert_exporter": "python",
   "pygments_lexer": "ipython3",
   "version": "3.9.12"
  }
 },
 "nbformat": 4,
 "nbformat_minor": 1
}
