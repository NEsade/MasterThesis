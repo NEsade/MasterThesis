{
 "cells": [
  {
   "cell_type": "markdown",
   "id": "70bb8b96",
   "metadata": {},
   "source": [
    "## Deep Learning Model Uncertainty"
   ]
  },
  {
   "cell_type": "markdown",
   "id": "001634e7",
   "metadata": {},
   "source": [
    "This notebook introduces uncertainty into the neural network by fitting multiple neural networks and predicting the target variable mutliple times. It then makes use of the boostrap resampling method in order to calculate a confidence interval of the non-normally distributed data.\n",
    "\n",
    "Note: the experiments are performed on the test set only."
   ]
  },
  {
   "cell_type": "code",
   "execution_count": 2,
   "id": "59a6b1f7",
   "metadata": {},
   "outputs": [],
   "source": [
    "#importing necessary packages\n",
    "import keras\n",
    "from keras.models import Sequential, Model\n",
    "from keras.layers import Activation, Dense, Input\n",
    "import pandas as pd\n",
    "import numpy as np\n",
    "import random\n",
    "from scikeras.wrappers import KerasRegressor\n",
    "from sklearn.model_selection import cross_val_score\n",
    "from sklearn.model_selection import KFold\n",
    "from sklearn.pipeline import Pipeline\n",
    "from sklearn.ensemble import RandomForestRegressor\n",
    "from sklearn.metrics import mean_absolute_error\n",
    "from sklearn.metrics import mean_squared_error\n",
    "from xgboost import XGBRegressor\n",
    "from keras.backend import clear_session\n",
    "from keras.layers import Dense, Activation\n",
    "from keras.models import Sequential\n",
    "import tensorflow as tf\n",
    "from sklearn.preprocessing import MinMaxScaler\n",
    "from sklearn.preprocessing import StandardScaler\n",
    "from keras.backend import clear_session\n",
    "from keras.layers import Dense, Activation\n",
    "from sklearn.model_selection import StratifiedKFold\n",
    "from sklearn.model_selection import KFold\n",
    "from sklearn.model_selection import GridSearchCV\n",
    "from tensorflow.keras.layers import Dropout\n",
    "from tensorflow.keras.constraints import MaxNorm\n",
    "import seaborn as sns\n",
    "import matplotlib.pyplot as plt"
   ]
  },
  {
   "cell_type": "code",
   "execution_count": 3,
   "id": "7ec94760",
   "metadata": {},
   "outputs": [],
   "source": [
    "#removing the seed for the cross validation and tensorflow so that each trained neural network produces slightly different results\n",
    "cross_validation = KFold(n_splits = 3, shuffle = True)#, random_state = 10)\n",
    "\n",
    "#seed = 14\n",
    "#tf.random.set_seed(14)"
   ]
  },
  {
   "cell_type": "code",
   "execution_count": 4,
   "id": "f3eff808",
   "metadata": {},
   "outputs": [
    {
     "name": "stdout",
     "output_type": "stream",
     "text": [
      "[name: \"/device:CPU:0\"\n",
      "device_type: \"CPU\"\n",
      "memory_limit: 268435456\n",
      "locality {\n",
      "}\n",
      "incarnation: 8059903605795045235\n",
      "xla_global_id: -1\n",
      ", name: \"/device:GPU:0\"\n",
      "device_type: \"GPU\"\n",
      "memory_limit: 15457484800\n",
      "locality {\n",
      "  bus_id: 1\n",
      "  links {\n",
      "  }\n",
      "}\n",
      "incarnation: 7128830100459144183\n",
      "physical_device_desc: \"device: 0, name: Quadro P5000, pci bus id: 0000:02:00.0, compute capability: 6.1\"\n",
      "xla_global_id: 416903419\n",
      "]\n"
     ]
    }
   ],
   "source": [
    "#checking if GPU is being used \n",
    "from tensorflow.python.client import device_lib\n",
    "print(device_lib.list_local_devices())"
   ]
  },
  {
   "cell_type": "code",
   "execution_count": 5,
   "id": "c5c9032a",
   "metadata": {},
   "outputs": [],
   "source": [
    "#read dataframe from the Data Preparation Notebook \n",
    "df_complete3 = pd.read_pickle('df_complete3_v3.pickle')"
   ]
  },
  {
   "cell_type": "code",
   "execution_count": 6,
   "id": "64a5da1a",
   "metadata": {},
   "outputs": [],
   "source": [
    "#change types of the whole dataframe so that we do not run out of memory during the training process \n",
    "df_complete3 = df_complete3.astype(np.uint8)"
   ]
  },
  {
   "cell_type": "code",
   "execution_count": 7,
   "id": "63bacefd",
   "metadata": {},
   "outputs": [],
   "source": [
    "#split off target column\n",
    "target_column = df_complete3['number of conflicts']\n",
    "df_complete3.drop(columns = ['number of conflicts'], inplace = True)"
   ]
  },
  {
   "cell_type": "code",
   "execution_count": 8,
   "id": "5edaab5f",
   "metadata": {},
   "outputs": [],
   "source": [
    "#perform train-test-split\n",
    "from sklearn.model_selection import train_test_split\n",
    "X_train, X_test, y_train, y_test = train_test_split(df_complete3, target_column, test_size = 0.08, random_state = 0)\n"
   ]
  },
  {
   "cell_type": "code",
   "execution_count": 9,
   "id": "8b7e1318",
   "metadata": {},
   "outputs": [
    {
     "name": "stderr",
     "output_type": "stream",
     "text": [
      "C:\\Users\\Shadow\\anaconda3\\envs\\tf-keras-gpu-2\\lib\\site-packages\\sklearn\\utils\\validation.py:1858: FutureWarning: Feature names only support names that are all strings. Got feature names with dtypes: ['int', 'str']. An error will be raised in 1.2.\n",
      "  warnings.warn(\n",
      "C:\\Users\\Shadow\\anaconda3\\envs\\tf-keras-gpu-2\\lib\\site-packages\\sklearn\\utils\\validation.py:1858: FutureWarning: Feature names only support names that are all strings. Got feature names with dtypes: ['int', 'str']. An error will be raised in 1.2.\n",
      "  warnings.warn(\n",
      "C:\\Users\\Shadow\\anaconda3\\envs\\tf-keras-gpu-2\\lib\\site-packages\\sklearn\\utils\\validation.py:1858: FutureWarning: Feature names only support names that are all strings. Got feature names with dtypes: ['int', 'str']. An error will be raised in 1.2.\n",
      "  warnings.warn(\n"
     ]
    }
   ],
   "source": [
    "#normalize the data with a StandardScaler - performance regarding simple model is better, so we continue with the Standard Scaler!\n",
    "sc = StandardScaler()\n",
    "X_train = sc.fit_transform(X_train)\n",
    "X_test = sc.transform(X_test)"
   ]
  },
  {
   "cell_type": "code",
   "execution_count": 27,
   "id": "e14bbe08",
   "metadata": {},
   "outputs": [],
   "source": [
    "#defining the best model\n",
    "def wider_larger_model(dropout_rate, weight_constraint):\n",
    "    clear_session()\n",
    "    model = Sequential()\n",
    "    del model\n",
    "    model = Sequential()\n",
    "    \n",
    "    model.add(Dense(40, input_shape=(X_train.shape[1],), kernel_initializer='normal', activation='relu', kernel_constraint = MaxNorm(weight_constraint)))\n",
    "    model.add(Dropout(dropout_rate))\n",
    "    model.add(Dense(60, kernel_initializer='normal', activation='relu', kernel_constraint = MaxNorm(2)))\n",
    "    model.add(Dropout(0.05))\n",
    "    model.add(Dense(50, kernel_initializer='normal', activation='relu', kernel_constraint = MaxNorm(2)))\n",
    "    model.add(Dropout(0.05))\n",
    "    model.add(Dense(30, kernel_initializer='normal', activation='relu', kernel_constraint = MaxNorm(2)))\n",
    "    model.add(Dropout(0.05))\n",
    "    model.add(Dense(20, kernel_initializer='normal', activation='relu', kernel_constraint = MaxNorm(2)))\n",
    "    model.add(Dropout(0.05))\n",
    "    model.add(Dense(10, kernel_initializer='normal', activation='relu', kernel_constraint = MaxNorm(2)))\n",
    "    model.add(Dropout(0.05))\n",
    "    model.add(Dense(1, kernel_initializer='normal', activation='relu'))\n",
    "    # Compile model\n",
    "    model.compile(loss='mean_squared_error')\n",
    "    return model"
   ]
  },
  {
   "cell_type": "code",
   "execution_count": 28,
   "id": "d0789ea8",
   "metadata": {},
   "outputs": [
    {
     "name": "stdout",
     "output_type": "stream",
     "text": [
      "Epoch 1/50\n",
      "31/31 - 2s - loss: 372.6836 - 2s/epoch - 73ms/step\n",
      "Epoch 2/50\n",
      "31/31 - 0s - loss: 324.3102 - 397ms/epoch - 13ms/step\n",
      "Epoch 3/50\n",
      "31/31 - 0s - loss: 312.7819 - 481ms/epoch - 16ms/step\n",
      "Epoch 4/50\n",
      "31/31 - 0s - loss: 307.0690 - 413ms/epoch - 13ms/step\n",
      "Epoch 5/50\n",
      "31/31 - 0s - loss: 301.9804 - 449ms/epoch - 14ms/step\n",
      "Epoch 6/50\n",
      "31/31 - 0s - loss: 295.5125 - 426ms/epoch - 14ms/step\n",
      "Epoch 7/50\n",
      "31/31 - 0s - loss: 289.4407 - 460ms/epoch - 15ms/step\n",
      "Epoch 8/50\n",
      "31/31 - 0s - loss: 282.6102 - 466ms/epoch - 15ms/step\n",
      "Epoch 9/50\n",
      "31/31 - 1s - loss: 275.2035 - 517ms/epoch - 17ms/step\n",
      "Epoch 10/50\n",
      "31/31 - 1s - loss: 270.0999 - 500ms/epoch - 16ms/step\n",
      "Epoch 11/50\n",
      "31/31 - 0s - loss: 263.5545 - 495ms/epoch - 16ms/step\n",
      "Epoch 12/50\n",
      "31/31 - 0s - loss: 257.2988 - 468ms/epoch - 15ms/step\n",
      "Epoch 13/50\n",
      "31/31 - 0s - loss: 251.5548 - 465ms/epoch - 15ms/step\n",
      "Epoch 14/50\n",
      "31/31 - 0s - loss: 246.9151 - 498ms/epoch - 16ms/step\n",
      "Epoch 15/50\n",
      "31/31 - 0s - loss: 239.1118 - 456ms/epoch - 15ms/step\n",
      "Epoch 16/50\n",
      "31/31 - 0s - loss: 235.4663 - 461ms/epoch - 15ms/step\n",
      "Epoch 17/50\n",
      "31/31 - 0s - loss: 229.9455 - 478ms/epoch - 15ms/step\n",
      "Epoch 18/50\n",
      "31/31 - 0s - loss: 226.9100 - 467ms/epoch - 15ms/step\n",
      "Epoch 19/50\n",
      "31/31 - 0s - loss: 224.3209 - 446ms/epoch - 14ms/step\n",
      "Epoch 20/50\n",
      "31/31 - 0s - loss: 220.8128 - 468ms/epoch - 15ms/step\n",
      "Epoch 21/50\n",
      "31/31 - 0s - loss: 217.4623 - 454ms/epoch - 15ms/step\n",
      "Epoch 22/50\n",
      "31/31 - 0s - loss: 216.8600 - 459ms/epoch - 15ms/step\n",
      "Epoch 23/50\n",
      "31/31 - 0s - loss: 212.7687 - 496ms/epoch - 16ms/step\n",
      "Epoch 24/50\n",
      "31/31 - 0s - loss: 210.8658 - 464ms/epoch - 15ms/step\n",
      "Epoch 25/50\n",
      "31/31 - 1s - loss: 207.1042 - 516ms/epoch - 17ms/step\n",
      "Epoch 26/50\n",
      "31/31 - 0s - loss: 206.0900 - 494ms/epoch - 16ms/step\n",
      "Epoch 27/50\n",
      "31/31 - 0s - loss: 205.6092 - 498ms/epoch - 16ms/step\n",
      "Epoch 28/50\n",
      "31/31 - 0s - loss: 201.5999 - 494ms/epoch - 16ms/step\n",
      "Epoch 29/50\n",
      "31/31 - 1s - loss: 200.4694 - 516ms/epoch - 17ms/step\n",
      "Epoch 30/50\n",
      "31/31 - 0s - loss: 195.5171 - 494ms/epoch - 16ms/step\n",
      "Epoch 31/50\n",
      "31/31 - 1s - loss: 194.1739 - 510ms/epoch - 16ms/step\n",
      "Epoch 32/50\n",
      "31/31 - 1s - loss: 194.0964 - 513ms/epoch - 17ms/step\n",
      "Epoch 33/50\n",
      "31/31 - 1s - loss: 190.7602 - 507ms/epoch - 16ms/step\n",
      "Epoch 34/50\n",
      "31/31 - 1s - loss: 192.9849 - 510ms/epoch - 16ms/step\n",
      "Epoch 35/50\n",
      "31/31 - 0s - loss: 187.3647 - 488ms/epoch - 16ms/step\n",
      "Epoch 36/50\n",
      "31/31 - 0s - loss: 185.0535 - 474ms/epoch - 15ms/step\n",
      "Epoch 37/50\n",
      "31/31 - 0s - loss: 189.4194 - 477ms/epoch - 15ms/step\n",
      "Epoch 38/50\n",
      "31/31 - 0s - loss: 184.6702 - 474ms/epoch - 15ms/step\n",
      "Epoch 39/50\n",
      "31/31 - 0s - loss: 184.5044 - 491ms/epoch - 16ms/step\n",
      "Epoch 40/50\n",
      "31/31 - 0s - loss: 180.5371 - 433ms/epoch - 14ms/step\n",
      "Epoch 41/50\n",
      "31/31 - 0s - loss: 182.7194 - 447ms/epoch - 14ms/step\n",
      "Epoch 42/50\n",
      "31/31 - 0s - loss: 179.5517 - 462ms/epoch - 15ms/step\n",
      "Epoch 43/50\n",
      "31/31 - 0s - loss: 176.9660 - 444ms/epoch - 14ms/step\n",
      "Epoch 44/50\n",
      "31/31 - 0s - loss: 174.1481 - 497ms/epoch - 16ms/step\n",
      "Epoch 45/50\n",
      "31/31 - 0s - loss: 177.2530 - 448ms/epoch - 14ms/step\n",
      "Epoch 46/50\n",
      "31/31 - 0s - loss: 175.7023 - 471ms/epoch - 15ms/step\n",
      "Epoch 47/50\n",
      "31/31 - 0s - loss: 167.1387 - 479ms/epoch - 15ms/step\n",
      "Epoch 48/50\n",
      "31/31 - 0s - loss: 172.6901 - 472ms/epoch - 15ms/step\n",
      "Epoch 49/50\n",
      "31/31 - 0s - loss: 172.3409 - 445ms/epoch - 14ms/step\n",
      "Epoch 50/50\n",
      "31/31 - 0s - loss: 172.8326 - 442ms/epoch - 14ms/step\n",
      "16/16 - 0s - 147ms/epoch - 9ms/step\n",
      "Epoch 1/50\n",
      "31/31 - 2s - loss: 353.0033 - 2s/epoch - 80ms/step\n",
      "Epoch 2/50\n",
      "31/31 - 0s - loss: 307.2627 - 500ms/epoch - 16ms/step\n",
      "Epoch 3/50\n",
      "31/31 - 0s - loss: 298.6178 - 491ms/epoch - 16ms/step\n",
      "Epoch 4/50\n",
      "31/31 - 0s - loss: 293.3247 - 478ms/epoch - 15ms/step\n",
      "Epoch 5/50\n",
      "31/31 - 0s - loss: 288.2420 - 489ms/epoch - 16ms/step\n",
      "Epoch 6/50\n",
      "31/31 - 0s - loss: 283.4319 - 490ms/epoch - 16ms/step\n",
      "Epoch 7/50\n",
      "31/31 - 0s - loss: 279.0159 - 454ms/epoch - 15ms/step\n",
      "Epoch 8/50\n",
      "31/31 - 0s - loss: 274.6035 - 455ms/epoch - 15ms/step\n",
      "Epoch 9/50\n",
      "31/31 - 0s - loss: 269.9160 - 493ms/epoch - 16ms/step\n",
      "Epoch 10/50\n",
      "31/31 - 0s - loss: 265.9047 - 491ms/epoch - 16ms/step\n",
      "Epoch 11/50\n",
      "31/31 - 0s - loss: 260.4299 - 490ms/epoch - 16ms/step\n",
      "Epoch 12/50\n",
      "31/31 - 0s - loss: 255.3723 - 434ms/epoch - 14ms/step\n",
      "Epoch 13/50\n",
      "31/31 - 0s - loss: 250.0097 - 425ms/epoch - 14ms/step\n",
      "Epoch 14/50\n",
      "31/31 - 0s - loss: 246.5763 - 456ms/epoch - 15ms/step\n",
      "Epoch 15/50\n",
      "31/31 - 0s - loss: 242.0928 - 441ms/epoch - 14ms/step\n",
      "Epoch 16/50\n",
      "31/31 - 0s - loss: 237.9647 - 449ms/epoch - 14ms/step\n",
      "Epoch 17/50\n",
      "31/31 - 0s - loss: 234.6405 - 443ms/epoch - 14ms/step\n",
      "Epoch 18/50\n",
      "31/31 - 0s - loss: 229.2677 - 438ms/epoch - 14ms/step\n",
      "Epoch 19/50\n",
      "31/31 - 0s - loss: 226.5674 - 427ms/epoch - 14ms/step\n",
      "Epoch 20/50\n",
      "31/31 - 0s - loss: 222.7865 - 425ms/epoch - 14ms/step\n",
      "Epoch 21/50\n",
      "31/31 - 0s - loss: 219.9754 - 439ms/epoch - 14ms/step\n",
      "Epoch 22/50\n",
      "31/31 - 0s - loss: 217.5163 - 428ms/epoch - 14ms/step\n",
      "Epoch 23/50\n",
      "31/31 - 0s - loss: 215.5252 - 430ms/epoch - 14ms/step\n",
      "Epoch 24/50\n",
      "31/31 - 0s - loss: 210.5575 - 449ms/epoch - 14ms/step\n",
      "Epoch 25/50\n",
      "31/31 - 0s - loss: 209.5672 - 452ms/epoch - 15ms/step\n",
      "Epoch 26/50\n",
      "31/31 - 0s - loss: 207.7673 - 449ms/epoch - 14ms/step\n",
      "Epoch 27/50\n",
      "31/31 - 0s - loss: 202.2557 - 439ms/epoch - 14ms/step\n",
      "Epoch 28/50\n",
      "31/31 - 0s - loss: 200.6305 - 427ms/epoch - 14ms/step\n",
      "Epoch 29/50\n",
      "31/31 - 0s - loss: 197.0293 - 463ms/epoch - 15ms/step\n",
      "Epoch 30/50\n",
      "31/31 - 0s - loss: 194.9616 - 499ms/epoch - 16ms/step\n",
      "Epoch 31/50\n",
      "31/31 - 0s - loss: 194.1591 - 442ms/epoch - 14ms/step\n",
      "Epoch 32/50\n",
      "31/31 - 0s - loss: 188.9481 - 477ms/epoch - 15ms/step\n",
      "Epoch 33/50\n",
      "31/31 - 0s - loss: 187.2691 - 429ms/epoch - 14ms/step\n",
      "Epoch 34/50\n",
      "31/31 - 0s - loss: 183.4454 - 455ms/epoch - 15ms/step\n",
      "Epoch 35/50\n",
      "31/31 - 0s - loss: 181.3175 - 467ms/epoch - 15ms/step\n",
      "Epoch 36/50\n",
      "31/31 - 0s - loss: 177.3725 - 489ms/epoch - 16ms/step\n",
      "Epoch 37/50\n",
      "31/31 - 0s - loss: 179.0592 - 488ms/epoch - 16ms/step\n",
      "Epoch 38/50\n",
      "31/31 - 0s - loss: 176.6618 - 487ms/epoch - 16ms/step\n",
      "Epoch 39/50\n",
      "31/31 - 0s - loss: 173.9785 - 483ms/epoch - 16ms/step\n",
      "Epoch 40/50\n",
      "31/31 - 1s - loss: 172.5784 - 503ms/epoch - 16ms/step\n",
      "Epoch 41/50\n",
      "31/31 - 0s - loss: 170.8657 - 437ms/epoch - 14ms/step\n",
      "Epoch 42/50\n",
      "31/31 - 0s - loss: 167.4972 - 459ms/epoch - 15ms/step\n",
      "Epoch 43/50\n",
      "31/31 - 0s - loss: 170.0756 - 474ms/epoch - 15ms/step\n",
      "Epoch 44/50\n",
      "31/31 - 0s - loss: 165.1995 - 470ms/epoch - 15ms/step\n",
      "Epoch 45/50\n",
      "31/31 - 0s - loss: 164.6286 - 488ms/epoch - 16ms/step\n",
      "Epoch 46/50\n",
      "31/31 - 0s - loss: 163.7357 - 484ms/epoch - 16ms/step\n",
      "Epoch 47/50\n",
      "31/31 - 0s - loss: 162.9322 - 459ms/epoch - 15ms/step\n",
      "Epoch 48/50\n",
      "31/31 - 0s - loss: 164.6304 - 493ms/epoch - 16ms/step\n",
      "Epoch 49/50\n",
      "31/31 - 0s - loss: 163.8446 - 441ms/epoch - 14ms/step\n",
      "Epoch 50/50\n",
      "31/31 - 0s - loss: 162.3029 - 438ms/epoch - 14ms/step\n",
      "16/16 - 0s - 160ms/epoch - 10ms/step\n",
      "Epoch 1/50\n",
      "31/31 - 2s - loss: 356.6816 - 2s/epoch - 72ms/step\n",
      "Epoch 2/50\n",
      "31/31 - 0s - loss: 314.4825 - 440ms/epoch - 14ms/step\n",
      "Epoch 3/50\n",
      "31/31 - 0s - loss: 303.5559 - 454ms/epoch - 15ms/step\n",
      "Epoch 4/50\n",
      "31/31 - 0s - loss: 297.7334 - 430ms/epoch - 14ms/step\n",
      "Epoch 5/50\n",
      "31/31 - 0s - loss: 291.3251 - 453ms/epoch - 15ms/step\n",
      "Epoch 6/50\n",
      "31/31 - 0s - loss: 284.7296 - 445ms/epoch - 14ms/step\n",
      "Epoch 7/50\n",
      "31/31 - 0s - loss: 278.9883 - 437ms/epoch - 14ms/step\n",
      "Epoch 8/50\n",
      "31/31 - 0s - loss: 270.4820 - 461ms/epoch - 15ms/step\n",
      "Epoch 9/50\n",
      "31/31 - 0s - loss: 260.4705 - 470ms/epoch - 15ms/step\n",
      "Epoch 10/50\n",
      "31/31 - 0s - loss: 253.7497 - 449ms/epoch - 14ms/step\n",
      "Epoch 11/50\n",
      "31/31 - 0s - loss: 248.2995 - 434ms/epoch - 14ms/step\n",
      "Epoch 12/50\n",
      "31/31 - 0s - loss: 244.6147 - 436ms/epoch - 14ms/step\n",
      "Epoch 13/50\n",
      "31/31 - 0s - loss: 239.6540 - 438ms/epoch - 14ms/step\n",
      "Epoch 14/50\n",
      "31/31 - 0s - loss: 234.5943 - 457ms/epoch - 15ms/step\n",
      "Epoch 15/50\n",
      "31/31 - 0s - loss: 234.1788 - 452ms/epoch - 15ms/step\n",
      "Epoch 16/50\n",
      "31/31 - 0s - loss: 228.6718 - 450ms/epoch - 15ms/step\n",
      "Epoch 17/50\n",
      "31/31 - 0s - loss: 226.8612 - 472ms/epoch - 15ms/step\n",
      "Epoch 18/50\n",
      "31/31 - 0s - loss: 224.7811 - 494ms/epoch - 16ms/step\n",
      "Epoch 19/50\n",
      "31/31 - 0s - loss: 221.9142 - 489ms/epoch - 16ms/step\n",
      "Epoch 20/50\n",
      "31/31 - 1s - loss: 217.9030 - 522ms/epoch - 17ms/step\n",
      "Epoch 21/50\n",
      "31/31 - 1s - loss: 217.2965 - 516ms/epoch - 17ms/step\n",
      "Epoch 22/50\n",
      "31/31 - 1s - loss: 218.1671 - 517ms/epoch - 17ms/step\n",
      "Epoch 23/50\n",
      "31/31 - 1s - loss: 213.4442 - 524ms/epoch - 17ms/step\n",
      "Epoch 24/50\n",
      "31/31 - 1s - loss: 210.4049 - 522ms/epoch - 17ms/step\n"
     ]
    },
    {
     "name": "stdout",
     "output_type": "stream",
     "text": [
      "Epoch 25/50\n",
      "31/31 - 1s - loss: 207.2810 - 519ms/epoch - 17ms/step\n",
      "Epoch 26/50\n",
      "31/31 - 1s - loss: 207.1432 - 530ms/epoch - 17ms/step\n",
      "Epoch 27/50\n",
      "31/31 - 0s - loss: 206.5284 - 485ms/epoch - 16ms/step\n",
      "Epoch 28/50\n",
      "31/31 - 0s - loss: 201.4693 - 496ms/epoch - 16ms/step\n",
      "Epoch 29/50\n",
      "31/31 - 0s - loss: 204.3696 - 491ms/epoch - 16ms/step\n",
      "Epoch 30/50\n",
      "31/31 - 0s - loss: 200.6376 - 487ms/epoch - 16ms/step\n",
      "Epoch 31/50\n",
      "31/31 - 0s - loss: 198.7814 - 488ms/epoch - 16ms/step\n",
      "Epoch 32/50\n",
      "31/31 - 0s - loss: 197.4022 - 488ms/epoch - 16ms/step\n",
      "Epoch 33/50\n",
      "31/31 - 1s - loss: 199.1936 - 515ms/epoch - 17ms/step\n",
      "Epoch 34/50\n",
      "31/31 - 0s - loss: 195.6756 - 479ms/epoch - 15ms/step\n",
      "Epoch 35/50\n",
      "31/31 - 0s - loss: 195.4274 - 494ms/epoch - 16ms/step\n",
      "Epoch 36/50\n",
      "31/31 - 1s - loss: 190.9255 - 501ms/epoch - 16ms/step\n",
      "Epoch 37/50\n",
      "31/31 - 0s - loss: 193.5900 - 478ms/epoch - 15ms/step\n",
      "Epoch 38/50\n",
      "31/31 - 0s - loss: 191.1633 - 499ms/epoch - 16ms/step\n",
      "Epoch 39/50\n",
      "31/31 - 1s - loss: 188.8714 - 504ms/epoch - 16ms/step\n",
      "Epoch 40/50\n",
      "31/31 - 0s - loss: 189.6569 - 499ms/epoch - 16ms/step\n",
      "Epoch 41/50\n",
      "31/31 - 1s - loss: 189.4437 - 534ms/epoch - 17ms/step\n",
      "Epoch 42/50\n",
      "31/31 - 1s - loss: 184.5767 - 598ms/epoch - 19ms/step\n",
      "Epoch 43/50\n",
      "31/31 - 0s - loss: 183.6833 - 480ms/epoch - 15ms/step\n",
      "Epoch 44/50\n",
      "31/31 - 1s - loss: 184.9558 - 528ms/epoch - 17ms/step\n",
      "Epoch 45/50\n",
      "31/31 - 1s - loss: 182.9391 - 513ms/epoch - 17ms/step\n",
      "Epoch 46/50\n",
      "31/31 - 1s - loss: 183.2473 - 510ms/epoch - 16ms/step\n",
      "Epoch 47/50\n",
      "31/31 - 0s - loss: 179.3250 - 462ms/epoch - 15ms/step\n",
      "Epoch 48/50\n",
      "31/31 - 0s - loss: 179.2641 - 468ms/epoch - 15ms/step\n",
      "Epoch 49/50\n",
      "31/31 - 1s - loss: 181.6675 - 529ms/epoch - 17ms/step\n",
      "Epoch 50/50\n",
      "31/31 - 1s - loss: 176.4241 - 520ms/epoch - 17ms/step\n",
      "16/16 - 0s - 162ms/epoch - 10ms/step\n",
      "Epoch 1/50\n",
      "47/47 - 3s - loss: 344.0511 - 3s/epoch - 55ms/step\n",
      "Epoch 2/50\n",
      "47/47 - 1s - loss: 307.2353 - 736ms/epoch - 16ms/step\n",
      "Epoch 3/50\n",
      "47/47 - 1s - loss: 298.9439 - 701ms/epoch - 15ms/step\n",
      "Epoch 4/50\n",
      "47/47 - 1s - loss: 292.8697 - 715ms/epoch - 15ms/step\n",
      "Epoch 5/50\n",
      "47/47 - 1s - loss: 285.9825 - 707ms/epoch - 15ms/step\n",
      "Epoch 6/50\n",
      "47/47 - 1s - loss: 277.2920 - 653ms/epoch - 14ms/step\n",
      "Epoch 7/50\n",
      "47/47 - 1s - loss: 268.7111 - 659ms/epoch - 14ms/step\n",
      "Epoch 8/50\n",
      "47/47 - 1s - loss: 259.6576 - 697ms/epoch - 15ms/step\n",
      "Epoch 9/50\n",
      "47/47 - 1s - loss: 250.8838 - 716ms/epoch - 15ms/step\n",
      "Epoch 10/50\n",
      "47/47 - 1s - loss: 242.3350 - 691ms/epoch - 15ms/step\n",
      "Epoch 11/50\n",
      "47/47 - 1s - loss: 235.4162 - 690ms/epoch - 15ms/step\n",
      "Epoch 12/50\n",
      "47/47 - 1s - loss: 228.6511 - 711ms/epoch - 15ms/step\n",
      "Epoch 13/50\n",
      "47/47 - 1s - loss: 223.4258 - 699ms/epoch - 15ms/step\n",
      "Epoch 14/50\n",
      "47/47 - 1s - loss: 217.9389 - 712ms/epoch - 15ms/step\n",
      "Epoch 15/50\n",
      "47/47 - 1s - loss: 215.3363 - 698ms/epoch - 15ms/step\n",
      "Epoch 16/50\n",
      "47/47 - 1s - loss: 211.7933 - 727ms/epoch - 15ms/step\n",
      "Epoch 17/50\n",
      "47/47 - 1s - loss: 209.6841 - 750ms/epoch - 16ms/step\n",
      "Epoch 18/50\n",
      "47/47 - 1s - loss: 205.3806 - 755ms/epoch - 16ms/step\n",
      "Epoch 19/50\n",
      "47/47 - 1s - loss: 204.4966 - 740ms/epoch - 16ms/step\n",
      "Epoch 20/50\n",
      "47/47 - 1s - loss: 201.9720 - 739ms/epoch - 16ms/step\n",
      "Epoch 21/50\n",
      "47/47 - 1s - loss: 198.4335 - 754ms/epoch - 16ms/step\n",
      "Epoch 22/50\n",
      "47/47 - 1s - loss: 196.7981 - 713ms/epoch - 15ms/step\n",
      "Epoch 23/50\n",
      "47/47 - 1s - loss: 195.1447 - 719ms/epoch - 15ms/step\n",
      "Epoch 24/50\n",
      "47/47 - 1s - loss: 194.6639 - 712ms/epoch - 15ms/step\n",
      "Epoch 25/50\n",
      "47/47 - 1s - loss: 192.5710 - 703ms/epoch - 15ms/step\n",
      "Epoch 26/50\n",
      "47/47 - 1s - loss: 192.2452 - 680ms/epoch - 14ms/step\n",
      "Epoch 27/50\n",
      "47/47 - 1s - loss: 189.6503 - 691ms/epoch - 15ms/step\n",
      "Epoch 28/50\n",
      "47/47 - 1s - loss: 190.2850 - 682ms/epoch - 15ms/step\n",
      "Epoch 29/50\n",
      "47/47 - 1s - loss: 187.1855 - 715ms/epoch - 15ms/step\n",
      "Epoch 30/50\n",
      "47/47 - 1s - loss: 187.4126 - 723ms/epoch - 15ms/step\n",
      "Epoch 31/50\n",
      "47/47 - 1s - loss: 189.6514 - 692ms/epoch - 15ms/step\n",
      "Epoch 32/50\n",
      "47/47 - 1s - loss: 185.2377 - 706ms/epoch - 15ms/step\n",
      "Epoch 33/50\n",
      "47/47 - 1s - loss: 183.6113 - 676ms/epoch - 14ms/step\n",
      "Epoch 34/50\n",
      "47/47 - 1s - loss: 183.0365 - 681ms/epoch - 14ms/step\n",
      "Epoch 35/50\n",
      "47/47 - 1s - loss: 181.5776 - 673ms/epoch - 14ms/step\n",
      "Epoch 36/50\n",
      "47/47 - 1s - loss: 180.9850 - 674ms/epoch - 14ms/step\n",
      "Epoch 37/50\n",
      "47/47 - 1s - loss: 179.9981 - 698ms/epoch - 15ms/step\n",
      "Epoch 38/50\n",
      "47/47 - 1s - loss: 178.6317 - 681ms/epoch - 14ms/step\n",
      "Epoch 39/50\n",
      "47/47 - 1s - loss: 176.0084 - 707ms/epoch - 15ms/step\n",
      "Epoch 40/50\n",
      "47/47 - 1s - loss: 173.7876 - 730ms/epoch - 16ms/step\n",
      "Epoch 41/50\n",
      "47/47 - 1s - loss: 175.5968 - 725ms/epoch - 15ms/step\n",
      "Epoch 42/50\n",
      "47/47 - 1s - loss: 173.2858 - 764ms/epoch - 16ms/step\n",
      "Epoch 43/50\n",
      "47/47 - 1s - loss: 175.1712 - 759ms/epoch - 16ms/step\n",
      "Epoch 44/50\n",
      "47/47 - 1s - loss: 177.1593 - 758ms/epoch - 16ms/step\n",
      "Epoch 45/50\n",
      "47/47 - 1s - loss: 170.6371 - 803ms/epoch - 17ms/step\n",
      "Epoch 46/50\n",
      "47/47 - 1s - loss: 172.6802 - 810ms/epoch - 17ms/step\n",
      "Epoch 47/50\n",
      "47/47 - 1s - loss: 168.2526 - 791ms/epoch - 17ms/step\n",
      "Epoch 48/50\n",
      "47/47 - 1s - loss: 173.4091 - 734ms/epoch - 16ms/step\n",
      "Epoch 49/50\n",
      "47/47 - 1s - loss: 166.2857 - 730ms/epoch - 16ms/step\n",
      "Epoch 50/50\n",
      "47/47 - 1s - loss: 168.2179 - 741ms/epoch - 16ms/step\n",
      "Best: -202.304632 using {'model__dropout_rate': 0.0, 'model__weight_constraint': 4}\n",
      "-202.304632 (53.809072) with: {'model__dropout_rate': 0.0, 'model__weight_constraint': 4}\n"
     ]
    }
   ],
   "source": [
    "#train the model, epochs is reduced to 50 in order to speed up the training process\n",
    "model = KerasRegressor(model=wider_larger_model, verbose=2, epochs = 50, batch_size = 2000, optimizer = \"Adam\",\n",
    "                      loss = 'mean_squared_error', optimizer__learning_rate = 0.1) \n",
    "#seed = 14\n",
    "#tf.random.set_seed(14)\n",
    "# define the grid search parameters\n",
    "weight_constraint = [4]\n",
    "dropout_rate = [0.0]\n",
    "# Make a dictionary of the grid search parameters\n",
    "param_grid = dict(model__dropout_rate=dropout_rate, model__weight_constraint = weight_constraint )\n",
    "\n",
    "\n",
    "grid = GridSearchCV(estimator=model, param_grid = param_grid, n_jobs=1, cv= cross_validation, scoring = \"neg_mean_squared_error\")\n",
    "grid_result = grid.fit(X_train, y_train)\n",
    "\n",
    "# summarize results\n",
    "print(\"Best: %f using %s\" % (grid_result.best_score_, grid_result.best_params_))\n",
    "means = grid_result.cv_results_['mean_test_score']\n",
    "stds = grid_result.cv_results_['std_test_score']\n",
    "params = grid_result.cv_results_['params']\n",
    "for mean, stdev, param in zip(means, stds, params):\n",
    "    print(\"%f (%f) with: %r\" % (mean, stdev, param))"
   ]
  },
  {
   "cell_type": "code",
   "execution_count": 29,
   "id": "218139b1",
   "metadata": {},
   "outputs": [
    {
     "name": "stdout",
     "output_type": "stream",
     "text": [
      "47/47 - 0s - 231ms/epoch - 5ms/step\n",
      "5/5 - 0s - 31ms/epoch - 6ms/step\n"
     ]
    }
   ],
   "source": [
    "#predictions are created for both the train and the test set\n",
    "y_pred_train1 = grid.predict(X_train)\n",
    "y_pred_test1 = grid.predict(X_test)"
   ]
  },
  {
   "cell_type": "code",
   "execution_count": 13,
   "id": "17de342d",
   "metadata": {},
   "outputs": [],
   "source": [
    "#create rounding functions\n",
    "import math\n",
    "def round_over_3(numb):\n",
    "    decimal_first = numb - int(numb)\n",
    "    decimal_first = int(decimal_first * 10) \n",
    "    if decimal_first < 3:\n",
    "        return math.floor(numb)\n",
    "    return math.ceil(numb)\n",
    "\n",
    "def round_over_9(numb):\n",
    "    decimal_first = numb - int(numb)\n",
    "    decimal_first = int(decimal_first * 10) \n",
    "    if decimal_first < 9:\n",
    "        return math.floor(numb)\n",
    "    return math.ceil(numb)"
   ]
  },
  {
   "cell_type": "code",
   "execution_count": 13,
   "id": "83a4b138",
   "metadata": {},
   "outputs": [
    {
     "name": "stdout",
     "output_type": "stream",
     "text": [
      "model0\n",
      "model1\n",
      "model2\n",
      "model3\n",
      "model4\n",
      "model5\n"
     ]
    },
    {
     "ename": "KeyboardInterrupt",
     "evalue": "",
     "output_type": "error",
     "traceback": [
      "\u001b[1;31m---------------------------------------------------------------------------\u001b[0m",
      "\u001b[1;31mKeyboardInterrupt\u001b[0m                         Traceback (most recent call last)",
      "Input \u001b[1;32mIn [13]\u001b[0m, in \u001b[0;36m<cell line: 6>\u001b[1;34m()\u001b[0m\n\u001b[0;32m     17\u001b[0m param_grid \u001b[38;5;241m=\u001b[39m \u001b[38;5;28mdict\u001b[39m(model__dropout_rate\u001b[38;5;241m=\u001b[39mdropout_rate, model__weight_constraint \u001b[38;5;241m=\u001b[39m weight_constraint )\n\u001b[0;32m     19\u001b[0m grid \u001b[38;5;241m=\u001b[39m GridSearchCV(estimator\u001b[38;5;241m=\u001b[39mmodel, param_grid \u001b[38;5;241m=\u001b[39m param_grid, n_jobs\u001b[38;5;241m=\u001b[39m\u001b[38;5;241m1\u001b[39m, cv\u001b[38;5;241m=\u001b[39m cross_validation, scoring \u001b[38;5;241m=\u001b[39m \u001b[38;5;124m\"\u001b[39m\u001b[38;5;124mneg_mean_squared_error\u001b[39m\u001b[38;5;124m\"\u001b[39m)\n\u001b[1;32m---> 20\u001b[0m grid_result \u001b[38;5;241m=\u001b[39m \u001b[43mgrid\u001b[49m\u001b[38;5;241;43m.\u001b[39;49m\u001b[43mfit\u001b[49m\u001b[43m(\u001b[49m\u001b[43mX_train\u001b[49m\u001b[43m,\u001b[49m\u001b[43m \u001b[49m\u001b[43my_train\u001b[49m\u001b[43m)\u001b[49m\n\u001b[0;32m     22\u001b[0m y_pred_train \u001b[38;5;241m=\u001b[39m grid\u001b[38;5;241m.\u001b[39mpredict(X_train)\n\u001b[0;32m     23\u001b[0m y_pred_test \u001b[38;5;241m=\u001b[39m grid\u001b[38;5;241m.\u001b[39mpredict(X_test)\n",
      "File \u001b[1;32m~\\anaconda3\\envs\\tf-keras-gpu-2\\lib\\site-packages\\sklearn\\model_selection\\_search.py:875\u001b[0m, in \u001b[0;36mBaseSearchCV.fit\u001b[1;34m(self, X, y, groups, **fit_params)\u001b[0m\n\u001b[0;32m    869\u001b[0m     results \u001b[38;5;241m=\u001b[39m \u001b[38;5;28mself\u001b[39m\u001b[38;5;241m.\u001b[39m_format_results(\n\u001b[0;32m    870\u001b[0m         all_candidate_params, n_splits, all_out, all_more_results\n\u001b[0;32m    871\u001b[0m     )\n\u001b[0;32m    873\u001b[0m     \u001b[38;5;28;01mreturn\u001b[39;00m results\n\u001b[1;32m--> 875\u001b[0m \u001b[38;5;28;43mself\u001b[39;49m\u001b[38;5;241;43m.\u001b[39;49m\u001b[43m_run_search\u001b[49m\u001b[43m(\u001b[49m\u001b[43mevaluate_candidates\u001b[49m\u001b[43m)\u001b[49m\n\u001b[0;32m    877\u001b[0m \u001b[38;5;66;03m# multimetric is determined here because in the case of a callable\u001b[39;00m\n\u001b[0;32m    878\u001b[0m \u001b[38;5;66;03m# self.scoring the return type is only known after calling\u001b[39;00m\n\u001b[0;32m    879\u001b[0m first_test_score \u001b[38;5;241m=\u001b[39m all_out[\u001b[38;5;241m0\u001b[39m][\u001b[38;5;124m\"\u001b[39m\u001b[38;5;124mtest_scores\u001b[39m\u001b[38;5;124m\"\u001b[39m]\n",
      "File \u001b[1;32m~\\anaconda3\\envs\\tf-keras-gpu-2\\lib\\site-packages\\sklearn\\model_selection\\_search.py:1379\u001b[0m, in \u001b[0;36mGridSearchCV._run_search\u001b[1;34m(self, evaluate_candidates)\u001b[0m\n\u001b[0;32m   1377\u001b[0m \u001b[38;5;28;01mdef\u001b[39;00m \u001b[38;5;21m_run_search\u001b[39m(\u001b[38;5;28mself\u001b[39m, evaluate_candidates):\n\u001b[0;32m   1378\u001b[0m     \u001b[38;5;124;03m\"\"\"Search all candidates in param_grid\"\"\"\u001b[39;00m\n\u001b[1;32m-> 1379\u001b[0m     \u001b[43mevaluate_candidates\u001b[49m\u001b[43m(\u001b[49m\u001b[43mParameterGrid\u001b[49m\u001b[43m(\u001b[49m\u001b[38;5;28;43mself\u001b[39;49m\u001b[38;5;241;43m.\u001b[39;49m\u001b[43mparam_grid\u001b[49m\u001b[43m)\u001b[49m\u001b[43m)\u001b[49m\n",
      "File \u001b[1;32m~\\anaconda3\\envs\\tf-keras-gpu-2\\lib\\site-packages\\sklearn\\model_selection\\_search.py:822\u001b[0m, in \u001b[0;36mBaseSearchCV.fit.<locals>.evaluate_candidates\u001b[1;34m(candidate_params, cv, more_results)\u001b[0m\n\u001b[0;32m    814\u001b[0m \u001b[38;5;28;01mif\u001b[39;00m \u001b[38;5;28mself\u001b[39m\u001b[38;5;241m.\u001b[39mverbose \u001b[38;5;241m>\u001b[39m \u001b[38;5;241m0\u001b[39m:\n\u001b[0;32m    815\u001b[0m     \u001b[38;5;28mprint\u001b[39m(\n\u001b[0;32m    816\u001b[0m         \u001b[38;5;124m\"\u001b[39m\u001b[38;5;124mFitting \u001b[39m\u001b[38;5;132;01m{0}\u001b[39;00m\u001b[38;5;124m folds for each of \u001b[39m\u001b[38;5;132;01m{1}\u001b[39;00m\u001b[38;5;124m candidates,\u001b[39m\u001b[38;5;124m\"\u001b[39m\n\u001b[0;32m    817\u001b[0m         \u001b[38;5;124m\"\u001b[39m\u001b[38;5;124m totalling \u001b[39m\u001b[38;5;132;01m{2}\u001b[39;00m\u001b[38;5;124m fits\u001b[39m\u001b[38;5;124m\"\u001b[39m\u001b[38;5;241m.\u001b[39mformat(\n\u001b[0;32m    818\u001b[0m             n_splits, n_candidates, n_candidates \u001b[38;5;241m*\u001b[39m n_splits\n\u001b[0;32m    819\u001b[0m         )\n\u001b[0;32m    820\u001b[0m     )\n\u001b[1;32m--> 822\u001b[0m out \u001b[38;5;241m=\u001b[39m \u001b[43mparallel\u001b[49m\u001b[43m(\u001b[49m\n\u001b[0;32m    823\u001b[0m \u001b[43m    \u001b[49m\u001b[43mdelayed\u001b[49m\u001b[43m(\u001b[49m\u001b[43m_fit_and_score\u001b[49m\u001b[43m)\u001b[49m\u001b[43m(\u001b[49m\n\u001b[0;32m    824\u001b[0m \u001b[43m        \u001b[49m\u001b[43mclone\u001b[49m\u001b[43m(\u001b[49m\u001b[43mbase_estimator\u001b[49m\u001b[43m)\u001b[49m\u001b[43m,\u001b[49m\n\u001b[0;32m    825\u001b[0m \u001b[43m        \u001b[49m\u001b[43mX\u001b[49m\u001b[43m,\u001b[49m\n\u001b[0;32m    826\u001b[0m \u001b[43m        \u001b[49m\u001b[43my\u001b[49m\u001b[43m,\u001b[49m\n\u001b[0;32m    827\u001b[0m \u001b[43m        \u001b[49m\u001b[43mtrain\u001b[49m\u001b[38;5;241;43m=\u001b[39;49m\u001b[43mtrain\u001b[49m\u001b[43m,\u001b[49m\n\u001b[0;32m    828\u001b[0m \u001b[43m        \u001b[49m\u001b[43mtest\u001b[49m\u001b[38;5;241;43m=\u001b[39;49m\u001b[43mtest\u001b[49m\u001b[43m,\u001b[49m\n\u001b[0;32m    829\u001b[0m \u001b[43m        \u001b[49m\u001b[43mparameters\u001b[49m\u001b[38;5;241;43m=\u001b[39;49m\u001b[43mparameters\u001b[49m\u001b[43m,\u001b[49m\n\u001b[0;32m    830\u001b[0m \u001b[43m        \u001b[49m\u001b[43msplit_progress\u001b[49m\u001b[38;5;241;43m=\u001b[39;49m\u001b[43m(\u001b[49m\u001b[43msplit_idx\u001b[49m\u001b[43m,\u001b[49m\u001b[43m \u001b[49m\u001b[43mn_splits\u001b[49m\u001b[43m)\u001b[49m\u001b[43m,\u001b[49m\n\u001b[0;32m    831\u001b[0m \u001b[43m        \u001b[49m\u001b[43mcandidate_progress\u001b[49m\u001b[38;5;241;43m=\u001b[39;49m\u001b[43m(\u001b[49m\u001b[43mcand_idx\u001b[49m\u001b[43m,\u001b[49m\u001b[43m \u001b[49m\u001b[43mn_candidates\u001b[49m\u001b[43m)\u001b[49m\u001b[43m,\u001b[49m\n\u001b[0;32m    832\u001b[0m \u001b[43m        \u001b[49m\u001b[38;5;241;43m*\u001b[39;49m\u001b[38;5;241;43m*\u001b[39;49m\u001b[43mfit_and_score_kwargs\u001b[49m\u001b[43m,\u001b[49m\n\u001b[0;32m    833\u001b[0m \u001b[43m    \u001b[49m\u001b[43m)\u001b[49m\n\u001b[0;32m    834\u001b[0m \u001b[43m    \u001b[49m\u001b[38;5;28;43;01mfor\u001b[39;49;00m\u001b[43m \u001b[49m\u001b[43m(\u001b[49m\u001b[43mcand_idx\u001b[49m\u001b[43m,\u001b[49m\u001b[43m \u001b[49m\u001b[43mparameters\u001b[49m\u001b[43m)\u001b[49m\u001b[43m,\u001b[49m\u001b[43m \u001b[49m\u001b[43m(\u001b[49m\u001b[43msplit_idx\u001b[49m\u001b[43m,\u001b[49m\u001b[43m \u001b[49m\u001b[43m(\u001b[49m\u001b[43mtrain\u001b[49m\u001b[43m,\u001b[49m\u001b[43m \u001b[49m\u001b[43mtest\u001b[49m\u001b[43m)\u001b[49m\u001b[43m)\u001b[49m\u001b[43m \u001b[49m\u001b[38;5;129;43;01min\u001b[39;49;00m\u001b[43m \u001b[49m\u001b[43mproduct\u001b[49m\u001b[43m(\u001b[49m\n\u001b[0;32m    835\u001b[0m \u001b[43m        \u001b[49m\u001b[38;5;28;43menumerate\u001b[39;49m\u001b[43m(\u001b[49m\u001b[43mcandidate_params\u001b[49m\u001b[43m)\u001b[49m\u001b[43m,\u001b[49m\u001b[43m \u001b[49m\u001b[38;5;28;43menumerate\u001b[39;49m\u001b[43m(\u001b[49m\u001b[43mcv\u001b[49m\u001b[38;5;241;43m.\u001b[39;49m\u001b[43msplit\u001b[49m\u001b[43m(\u001b[49m\u001b[43mX\u001b[49m\u001b[43m,\u001b[49m\u001b[43m \u001b[49m\u001b[43my\u001b[49m\u001b[43m,\u001b[49m\u001b[43m \u001b[49m\u001b[43mgroups\u001b[49m\u001b[43m)\u001b[49m\u001b[43m)\u001b[49m\n\u001b[0;32m    836\u001b[0m \u001b[43m    \u001b[49m\u001b[43m)\u001b[49m\n\u001b[0;32m    837\u001b[0m \u001b[43m\u001b[49m\u001b[43m)\u001b[49m\n\u001b[0;32m    839\u001b[0m \u001b[38;5;28;01mif\u001b[39;00m \u001b[38;5;28mlen\u001b[39m(out) \u001b[38;5;241m<\u001b[39m \u001b[38;5;241m1\u001b[39m:\n\u001b[0;32m    840\u001b[0m     \u001b[38;5;28;01mraise\u001b[39;00m \u001b[38;5;167;01mValueError\u001b[39;00m(\n\u001b[0;32m    841\u001b[0m         \u001b[38;5;124m\"\u001b[39m\u001b[38;5;124mNo fits were performed. \u001b[39m\u001b[38;5;124m\"\u001b[39m\n\u001b[0;32m    842\u001b[0m         \u001b[38;5;124m\"\u001b[39m\u001b[38;5;124mWas the CV iterator empty? \u001b[39m\u001b[38;5;124m\"\u001b[39m\n\u001b[0;32m    843\u001b[0m         \u001b[38;5;124m\"\u001b[39m\u001b[38;5;124mWere there no candidates?\u001b[39m\u001b[38;5;124m\"\u001b[39m\n\u001b[0;32m    844\u001b[0m     )\n",
      "File \u001b[1;32m~\\anaconda3\\envs\\tf-keras-gpu-2\\lib\\site-packages\\joblib\\parallel.py:1046\u001b[0m, in \u001b[0;36mParallel.__call__\u001b[1;34m(self, iterable)\u001b[0m\n\u001b[0;32m   1043\u001b[0m \u001b[38;5;28;01mif\u001b[39;00m \u001b[38;5;28mself\u001b[39m\u001b[38;5;241m.\u001b[39mdispatch_one_batch(iterator):\n\u001b[0;32m   1044\u001b[0m     \u001b[38;5;28mself\u001b[39m\u001b[38;5;241m.\u001b[39m_iterating \u001b[38;5;241m=\u001b[39m \u001b[38;5;28mself\u001b[39m\u001b[38;5;241m.\u001b[39m_original_iterator \u001b[38;5;129;01mis\u001b[39;00m \u001b[38;5;129;01mnot\u001b[39;00m \u001b[38;5;28;01mNone\u001b[39;00m\n\u001b[1;32m-> 1046\u001b[0m \u001b[38;5;28;01mwhile\u001b[39;00m \u001b[38;5;28;43mself\u001b[39;49m\u001b[38;5;241;43m.\u001b[39;49m\u001b[43mdispatch_one_batch\u001b[49m\u001b[43m(\u001b[49m\u001b[43miterator\u001b[49m\u001b[43m)\u001b[49m:\n\u001b[0;32m   1047\u001b[0m     \u001b[38;5;28;01mpass\u001b[39;00m\n\u001b[0;32m   1049\u001b[0m \u001b[38;5;28;01mif\u001b[39;00m pre_dispatch \u001b[38;5;241m==\u001b[39m \u001b[38;5;124m\"\u001b[39m\u001b[38;5;124mall\u001b[39m\u001b[38;5;124m\"\u001b[39m \u001b[38;5;129;01mor\u001b[39;00m n_jobs \u001b[38;5;241m==\u001b[39m \u001b[38;5;241m1\u001b[39m:\n\u001b[0;32m   1050\u001b[0m     \u001b[38;5;66;03m# The iterable was consumed all at once by the above for loop.\u001b[39;00m\n\u001b[0;32m   1051\u001b[0m     \u001b[38;5;66;03m# No need to wait for async callbacks to trigger to\u001b[39;00m\n\u001b[0;32m   1052\u001b[0m     \u001b[38;5;66;03m# consumption.\u001b[39;00m\n",
      "File \u001b[1;32m~\\anaconda3\\envs\\tf-keras-gpu-2\\lib\\site-packages\\joblib\\parallel.py:861\u001b[0m, in \u001b[0;36mParallel.dispatch_one_batch\u001b[1;34m(self, iterator)\u001b[0m\n\u001b[0;32m    859\u001b[0m     \u001b[38;5;28;01mreturn\u001b[39;00m \u001b[38;5;28;01mFalse\u001b[39;00m\n\u001b[0;32m    860\u001b[0m \u001b[38;5;28;01melse\u001b[39;00m:\n\u001b[1;32m--> 861\u001b[0m     \u001b[38;5;28;43mself\u001b[39;49m\u001b[38;5;241;43m.\u001b[39;49m\u001b[43m_dispatch\u001b[49m\u001b[43m(\u001b[49m\u001b[43mtasks\u001b[49m\u001b[43m)\u001b[49m\n\u001b[0;32m    862\u001b[0m     \u001b[38;5;28;01mreturn\u001b[39;00m \u001b[38;5;28;01mTrue\u001b[39;00m\n",
      "File \u001b[1;32m~\\anaconda3\\envs\\tf-keras-gpu-2\\lib\\site-packages\\joblib\\parallel.py:779\u001b[0m, in \u001b[0;36mParallel._dispatch\u001b[1;34m(self, batch)\u001b[0m\n\u001b[0;32m    777\u001b[0m \u001b[38;5;28;01mwith\u001b[39;00m \u001b[38;5;28mself\u001b[39m\u001b[38;5;241m.\u001b[39m_lock:\n\u001b[0;32m    778\u001b[0m     job_idx \u001b[38;5;241m=\u001b[39m \u001b[38;5;28mlen\u001b[39m(\u001b[38;5;28mself\u001b[39m\u001b[38;5;241m.\u001b[39m_jobs)\n\u001b[1;32m--> 779\u001b[0m     job \u001b[38;5;241m=\u001b[39m \u001b[38;5;28;43mself\u001b[39;49m\u001b[38;5;241;43m.\u001b[39;49m\u001b[43m_backend\u001b[49m\u001b[38;5;241;43m.\u001b[39;49m\u001b[43mapply_async\u001b[49m\u001b[43m(\u001b[49m\u001b[43mbatch\u001b[49m\u001b[43m,\u001b[49m\u001b[43m \u001b[49m\u001b[43mcallback\u001b[49m\u001b[38;5;241;43m=\u001b[39;49m\u001b[43mcb\u001b[49m\u001b[43m)\u001b[49m\n\u001b[0;32m    780\u001b[0m     \u001b[38;5;66;03m# A job can complete so quickly than its callback is\u001b[39;00m\n\u001b[0;32m    781\u001b[0m     \u001b[38;5;66;03m# called before we get here, causing self._jobs to\u001b[39;00m\n\u001b[0;32m    782\u001b[0m     \u001b[38;5;66;03m# grow. To ensure correct results ordering, .insert is\u001b[39;00m\n\u001b[0;32m    783\u001b[0m     \u001b[38;5;66;03m# used (rather than .append) in the following line\u001b[39;00m\n\u001b[0;32m    784\u001b[0m     \u001b[38;5;28mself\u001b[39m\u001b[38;5;241m.\u001b[39m_jobs\u001b[38;5;241m.\u001b[39minsert(job_idx, job)\n",
      "File \u001b[1;32m~\\anaconda3\\envs\\tf-keras-gpu-2\\lib\\site-packages\\joblib\\_parallel_backends.py:208\u001b[0m, in \u001b[0;36mSequentialBackend.apply_async\u001b[1;34m(self, func, callback)\u001b[0m\n\u001b[0;32m    206\u001b[0m \u001b[38;5;28;01mdef\u001b[39;00m \u001b[38;5;21mapply_async\u001b[39m(\u001b[38;5;28mself\u001b[39m, func, callback\u001b[38;5;241m=\u001b[39m\u001b[38;5;28;01mNone\u001b[39;00m):\n\u001b[0;32m    207\u001b[0m     \u001b[38;5;124;03m\"\"\"Schedule a func to be run\"\"\"\u001b[39;00m\n\u001b[1;32m--> 208\u001b[0m     result \u001b[38;5;241m=\u001b[39m \u001b[43mImmediateResult\u001b[49m\u001b[43m(\u001b[49m\u001b[43mfunc\u001b[49m\u001b[43m)\u001b[49m\n\u001b[0;32m    209\u001b[0m     \u001b[38;5;28;01mif\u001b[39;00m callback:\n\u001b[0;32m    210\u001b[0m         callback(result)\n",
      "File \u001b[1;32m~\\anaconda3\\envs\\tf-keras-gpu-2\\lib\\site-packages\\joblib\\_parallel_backends.py:572\u001b[0m, in \u001b[0;36mImmediateResult.__init__\u001b[1;34m(self, batch)\u001b[0m\n\u001b[0;32m    569\u001b[0m \u001b[38;5;28;01mdef\u001b[39;00m \u001b[38;5;21m__init__\u001b[39m(\u001b[38;5;28mself\u001b[39m, batch):\n\u001b[0;32m    570\u001b[0m     \u001b[38;5;66;03m# Don't delay the application, to avoid keeping the input\u001b[39;00m\n\u001b[0;32m    571\u001b[0m     \u001b[38;5;66;03m# arguments in memory\u001b[39;00m\n\u001b[1;32m--> 572\u001b[0m     \u001b[38;5;28mself\u001b[39m\u001b[38;5;241m.\u001b[39mresults \u001b[38;5;241m=\u001b[39m \u001b[43mbatch\u001b[49m\u001b[43m(\u001b[49m\u001b[43m)\u001b[49m\n",
      "File \u001b[1;32m~\\anaconda3\\envs\\tf-keras-gpu-2\\lib\\site-packages\\joblib\\parallel.py:262\u001b[0m, in \u001b[0;36mBatchedCalls.__call__\u001b[1;34m(self)\u001b[0m\n\u001b[0;32m    258\u001b[0m \u001b[38;5;28;01mdef\u001b[39;00m \u001b[38;5;21m__call__\u001b[39m(\u001b[38;5;28mself\u001b[39m):\n\u001b[0;32m    259\u001b[0m     \u001b[38;5;66;03m# Set the default nested backend to self._backend but do not set the\u001b[39;00m\n\u001b[0;32m    260\u001b[0m     \u001b[38;5;66;03m# change the default number of processes to -1\u001b[39;00m\n\u001b[0;32m    261\u001b[0m     \u001b[38;5;28;01mwith\u001b[39;00m parallel_backend(\u001b[38;5;28mself\u001b[39m\u001b[38;5;241m.\u001b[39m_backend, n_jobs\u001b[38;5;241m=\u001b[39m\u001b[38;5;28mself\u001b[39m\u001b[38;5;241m.\u001b[39m_n_jobs):\n\u001b[1;32m--> 262\u001b[0m         \u001b[38;5;28;01mreturn\u001b[39;00m [func(\u001b[38;5;241m*\u001b[39margs, \u001b[38;5;241m*\u001b[39m\u001b[38;5;241m*\u001b[39mkwargs)\n\u001b[0;32m    263\u001b[0m                 \u001b[38;5;28;01mfor\u001b[39;00m func, args, kwargs \u001b[38;5;129;01min\u001b[39;00m \u001b[38;5;28mself\u001b[39m\u001b[38;5;241m.\u001b[39mitems]\n",
      "File \u001b[1;32m~\\anaconda3\\envs\\tf-keras-gpu-2\\lib\\site-packages\\joblib\\parallel.py:262\u001b[0m, in \u001b[0;36m<listcomp>\u001b[1;34m(.0)\u001b[0m\n\u001b[0;32m    258\u001b[0m \u001b[38;5;28;01mdef\u001b[39;00m \u001b[38;5;21m__call__\u001b[39m(\u001b[38;5;28mself\u001b[39m):\n\u001b[0;32m    259\u001b[0m     \u001b[38;5;66;03m# Set the default nested backend to self._backend but do not set the\u001b[39;00m\n\u001b[0;32m    260\u001b[0m     \u001b[38;5;66;03m# change the default number of processes to -1\u001b[39;00m\n\u001b[0;32m    261\u001b[0m     \u001b[38;5;28;01mwith\u001b[39;00m parallel_backend(\u001b[38;5;28mself\u001b[39m\u001b[38;5;241m.\u001b[39m_backend, n_jobs\u001b[38;5;241m=\u001b[39m\u001b[38;5;28mself\u001b[39m\u001b[38;5;241m.\u001b[39m_n_jobs):\n\u001b[1;32m--> 262\u001b[0m         \u001b[38;5;28;01mreturn\u001b[39;00m [func(\u001b[38;5;241m*\u001b[39margs, \u001b[38;5;241m*\u001b[39m\u001b[38;5;241m*\u001b[39mkwargs)\n\u001b[0;32m    263\u001b[0m                 \u001b[38;5;28;01mfor\u001b[39;00m func, args, kwargs \u001b[38;5;129;01min\u001b[39;00m \u001b[38;5;28mself\u001b[39m\u001b[38;5;241m.\u001b[39mitems]\n",
      "File \u001b[1;32m~\\anaconda3\\envs\\tf-keras-gpu-2\\lib\\site-packages\\sklearn\\utils\\fixes.py:117\u001b[0m, in \u001b[0;36m_FuncWrapper.__call__\u001b[1;34m(self, *args, **kwargs)\u001b[0m\n\u001b[0;32m    115\u001b[0m \u001b[38;5;28;01mdef\u001b[39;00m \u001b[38;5;21m__call__\u001b[39m(\u001b[38;5;28mself\u001b[39m, \u001b[38;5;241m*\u001b[39margs, \u001b[38;5;241m*\u001b[39m\u001b[38;5;241m*\u001b[39mkwargs):\n\u001b[0;32m    116\u001b[0m     \u001b[38;5;28;01mwith\u001b[39;00m config_context(\u001b[38;5;241m*\u001b[39m\u001b[38;5;241m*\u001b[39m\u001b[38;5;28mself\u001b[39m\u001b[38;5;241m.\u001b[39mconfig):\n\u001b[1;32m--> 117\u001b[0m         \u001b[38;5;28;01mreturn\u001b[39;00m \u001b[38;5;28mself\u001b[39m\u001b[38;5;241m.\u001b[39mfunction(\u001b[38;5;241m*\u001b[39margs, \u001b[38;5;241m*\u001b[39m\u001b[38;5;241m*\u001b[39mkwargs)\n",
      "File \u001b[1;32m~\\anaconda3\\envs\\tf-keras-gpu-2\\lib\\site-packages\\sklearn\\model_selection\\_validation.py:686\u001b[0m, in \u001b[0;36m_fit_and_score\u001b[1;34m(estimator, X, y, scorer, train, test, verbose, parameters, fit_params, return_train_score, return_parameters, return_n_test_samples, return_times, return_estimator, split_progress, candidate_progress, error_score)\u001b[0m\n\u001b[0;32m    684\u001b[0m         estimator\u001b[38;5;241m.\u001b[39mfit(X_train, \u001b[38;5;241m*\u001b[39m\u001b[38;5;241m*\u001b[39mfit_params)\n\u001b[0;32m    685\u001b[0m     \u001b[38;5;28;01melse\u001b[39;00m:\n\u001b[1;32m--> 686\u001b[0m         estimator\u001b[38;5;241m.\u001b[39mfit(X_train, y_train, \u001b[38;5;241m*\u001b[39m\u001b[38;5;241m*\u001b[39mfit_params)\n\u001b[0;32m    688\u001b[0m \u001b[38;5;28;01mexcept\u001b[39;00m \u001b[38;5;167;01mException\u001b[39;00m:\n\u001b[0;32m    689\u001b[0m     \u001b[38;5;66;03m# Note fit time as time until error\u001b[39;00m\n\u001b[0;32m    690\u001b[0m     fit_time \u001b[38;5;241m=\u001b[39m time\u001b[38;5;241m.\u001b[39mtime() \u001b[38;5;241m-\u001b[39m start_time\n",
      "File \u001b[1;32m~\\anaconda3\\envs\\tf-keras-gpu-2\\lib\\site-packages\\scikeras\\wrappers.py:762\u001b[0m, in \u001b[0;36mBaseWrapper.fit\u001b[1;34m(self, X, y, sample_weight, **kwargs)\u001b[0m\n\u001b[0;32m    757\u001b[0m kwargs[\u001b[38;5;124m\"\u001b[39m\u001b[38;5;124mepochs\u001b[39m\u001b[38;5;124m\"\u001b[39m] \u001b[38;5;241m=\u001b[39m kwargs\u001b[38;5;241m.\u001b[39mget(\n\u001b[0;32m    758\u001b[0m     \u001b[38;5;124m\"\u001b[39m\u001b[38;5;124mepochs\u001b[39m\u001b[38;5;124m\"\u001b[39m, \u001b[38;5;28mgetattr\u001b[39m(\u001b[38;5;28mself\u001b[39m, \u001b[38;5;124m\"\u001b[39m\u001b[38;5;124mfit__epochs\u001b[39m\u001b[38;5;124m\"\u001b[39m, \u001b[38;5;28mself\u001b[39m\u001b[38;5;241m.\u001b[39mepochs)\n\u001b[0;32m    759\u001b[0m )\n\u001b[0;32m    760\u001b[0m kwargs[\u001b[38;5;124m\"\u001b[39m\u001b[38;5;124minitial_epoch\u001b[39m\u001b[38;5;124m\"\u001b[39m] \u001b[38;5;241m=\u001b[39m kwargs\u001b[38;5;241m.\u001b[39mget(\u001b[38;5;124m\"\u001b[39m\u001b[38;5;124minitial_epoch\u001b[39m\u001b[38;5;124m\"\u001b[39m, \u001b[38;5;241m0\u001b[39m)\n\u001b[1;32m--> 762\u001b[0m \u001b[38;5;28mself\u001b[39m\u001b[38;5;241m.\u001b[39m_fit(\n\u001b[0;32m    763\u001b[0m     X\u001b[38;5;241m=\u001b[39mX,\n\u001b[0;32m    764\u001b[0m     y\u001b[38;5;241m=\u001b[39my,\n\u001b[0;32m    765\u001b[0m     sample_weight\u001b[38;5;241m=\u001b[39msample_weight,\n\u001b[0;32m    766\u001b[0m     warm_start\u001b[38;5;241m=\u001b[39m\u001b[38;5;28mself\u001b[39m\u001b[38;5;241m.\u001b[39mwarm_start,\n\u001b[0;32m    767\u001b[0m     \u001b[38;5;241m*\u001b[39m\u001b[38;5;241m*\u001b[39mkwargs,\n\u001b[0;32m    768\u001b[0m )\n\u001b[0;32m    770\u001b[0m \u001b[38;5;28;01mreturn\u001b[39;00m \u001b[38;5;28mself\u001b[39m\n",
      "File \u001b[1;32m~\\anaconda3\\envs\\tf-keras-gpu-2\\lib\\site-packages\\scikeras\\wrappers.py:931\u001b[0m, in \u001b[0;36mBaseWrapper._fit\u001b[1;34m(self, X, y, sample_weight, warm_start, epochs, initial_epoch, **kwargs)\u001b[0m\n\u001b[0;32m    927\u001b[0m X \u001b[38;5;241m=\u001b[39m \u001b[38;5;28mself\u001b[39m\u001b[38;5;241m.\u001b[39mfeature_encoder_\u001b[38;5;241m.\u001b[39mtransform(X)\n\u001b[0;32m    929\u001b[0m \u001b[38;5;28mself\u001b[39m\u001b[38;5;241m.\u001b[39m_check_model_compatibility(y)\n\u001b[1;32m--> 931\u001b[0m \u001b[38;5;28mself\u001b[39m\u001b[38;5;241m.\u001b[39m_fit_keras_model(\n\u001b[0;32m    932\u001b[0m     X,\n\u001b[0;32m    933\u001b[0m     y,\n\u001b[0;32m    934\u001b[0m     sample_weight\u001b[38;5;241m=\u001b[39msample_weight,\n\u001b[0;32m    935\u001b[0m     warm_start\u001b[38;5;241m=\u001b[39mwarm_start,\n\u001b[0;32m    936\u001b[0m     epochs\u001b[38;5;241m=\u001b[39mepochs,\n\u001b[0;32m    937\u001b[0m     initial_epoch\u001b[38;5;241m=\u001b[39minitial_epoch,\n\u001b[0;32m    938\u001b[0m     \u001b[38;5;241m*\u001b[39m\u001b[38;5;241m*\u001b[39mkwargs,\n\u001b[0;32m    939\u001b[0m )\n",
      "File \u001b[1;32m~\\anaconda3\\envs\\tf-keras-gpu-2\\lib\\site-packages\\scikeras\\wrappers.py:526\u001b[0m, in \u001b[0;36mBaseWrapper._fit_keras_model\u001b[1;34m(self, X, y, sample_weight, warm_start, epochs, initial_epoch, **kwargs)\u001b[0m\n\u001b[0;32m    524\u001b[0m         hist \u001b[38;5;241m=\u001b[39m \u001b[38;5;28mself\u001b[39m\u001b[38;5;241m.\u001b[39mmodel_\u001b[38;5;241m.\u001b[39mfit(x\u001b[38;5;241m=\u001b[39mX, y\u001b[38;5;241m=\u001b[39my, \u001b[38;5;241m*\u001b[39m\u001b[38;5;241m*\u001b[39mfit_args)\n\u001b[0;32m    525\u001b[0m \u001b[38;5;28;01melse\u001b[39;00m:\n\u001b[1;32m--> 526\u001b[0m     hist \u001b[38;5;241m=\u001b[39m \u001b[38;5;28mself\u001b[39m\u001b[38;5;241m.\u001b[39mmodel_\u001b[38;5;241m.\u001b[39mfit(x\u001b[38;5;241m=\u001b[39mX, y\u001b[38;5;241m=\u001b[39my, \u001b[38;5;241m*\u001b[39m\u001b[38;5;241m*\u001b[39mfit_args)\n\u001b[0;32m    528\u001b[0m \u001b[38;5;28;01mif\u001b[39;00m \u001b[38;5;129;01mnot\u001b[39;00m warm_start \u001b[38;5;129;01mor\u001b[39;00m \u001b[38;5;129;01mnot\u001b[39;00m \u001b[38;5;28mhasattr\u001b[39m(\u001b[38;5;28mself\u001b[39m, \u001b[38;5;124m\"\u001b[39m\u001b[38;5;124mhistory_\u001b[39m\u001b[38;5;124m\"\u001b[39m) \u001b[38;5;129;01mor\u001b[39;00m initial_epoch \u001b[38;5;241m==\u001b[39m \u001b[38;5;241m0\u001b[39m:\n\u001b[0;32m    529\u001b[0m     \u001b[38;5;28mself\u001b[39m\u001b[38;5;241m.\u001b[39mhistory_ \u001b[38;5;241m=\u001b[39m defaultdict(\u001b[38;5;28mlist\u001b[39m)\n",
      "File \u001b[1;32m~\\anaconda3\\envs\\tf-keras-gpu-2\\lib\\site-packages\\keras\\utils\\traceback_utils.py:64\u001b[0m, in \u001b[0;36mfilter_traceback.<locals>.error_handler\u001b[1;34m(*args, **kwargs)\u001b[0m\n\u001b[0;32m     62\u001b[0m filtered_tb \u001b[38;5;241m=\u001b[39m \u001b[38;5;28;01mNone\u001b[39;00m\n\u001b[0;32m     63\u001b[0m \u001b[38;5;28;01mtry\u001b[39;00m:\n\u001b[1;32m---> 64\u001b[0m   \u001b[38;5;28;01mreturn\u001b[39;00m fn(\u001b[38;5;241m*\u001b[39margs, \u001b[38;5;241m*\u001b[39m\u001b[38;5;241m*\u001b[39mkwargs)\n\u001b[0;32m     65\u001b[0m \u001b[38;5;28;01mexcept\u001b[39;00m \u001b[38;5;167;01mException\u001b[39;00m \u001b[38;5;28;01mas\u001b[39;00m e:  \u001b[38;5;66;03m# pylint: disable=broad-except\u001b[39;00m\n\u001b[0;32m     66\u001b[0m   filtered_tb \u001b[38;5;241m=\u001b[39m _process_traceback_frames(e\u001b[38;5;241m.\u001b[39m__traceback__)\n",
      "File \u001b[1;32m~\\anaconda3\\envs\\tf-keras-gpu-2\\lib\\site-packages\\keras\\engine\\training.py:1384\u001b[0m, in \u001b[0;36mModel.fit\u001b[1;34m(self, x, y, batch_size, epochs, verbose, callbacks, validation_split, validation_data, shuffle, class_weight, sample_weight, initial_epoch, steps_per_epoch, validation_steps, validation_batch_size, validation_freq, max_queue_size, workers, use_multiprocessing)\u001b[0m\n\u001b[0;32m   1377\u001b[0m \u001b[38;5;28;01mwith\u001b[39;00m tf\u001b[38;5;241m.\u001b[39mprofiler\u001b[38;5;241m.\u001b[39mexperimental\u001b[38;5;241m.\u001b[39mTrace(\n\u001b[0;32m   1378\u001b[0m     \u001b[38;5;124m'\u001b[39m\u001b[38;5;124mtrain\u001b[39m\u001b[38;5;124m'\u001b[39m,\n\u001b[0;32m   1379\u001b[0m     epoch_num\u001b[38;5;241m=\u001b[39mepoch,\n\u001b[0;32m   1380\u001b[0m     step_num\u001b[38;5;241m=\u001b[39mstep,\n\u001b[0;32m   1381\u001b[0m     batch_size\u001b[38;5;241m=\u001b[39mbatch_size,\n\u001b[0;32m   1382\u001b[0m     _r\u001b[38;5;241m=\u001b[39m\u001b[38;5;241m1\u001b[39m):\n\u001b[0;32m   1383\u001b[0m   callbacks\u001b[38;5;241m.\u001b[39mon_train_batch_begin(step)\n\u001b[1;32m-> 1384\u001b[0m   tmp_logs \u001b[38;5;241m=\u001b[39m \u001b[38;5;28;43mself\u001b[39;49m\u001b[38;5;241;43m.\u001b[39;49m\u001b[43mtrain_function\u001b[49m\u001b[43m(\u001b[49m\u001b[43miterator\u001b[49m\u001b[43m)\u001b[49m\n\u001b[0;32m   1385\u001b[0m   \u001b[38;5;28;01mif\u001b[39;00m data_handler\u001b[38;5;241m.\u001b[39mshould_sync:\n\u001b[0;32m   1386\u001b[0m     context\u001b[38;5;241m.\u001b[39masync_wait()\n",
      "File \u001b[1;32m~\\anaconda3\\envs\\tf-keras-gpu-2\\lib\\site-packages\\tensorflow\\python\\util\\traceback_utils.py:150\u001b[0m, in \u001b[0;36mfilter_traceback.<locals>.error_handler\u001b[1;34m(*args, **kwargs)\u001b[0m\n\u001b[0;32m    148\u001b[0m filtered_tb \u001b[38;5;241m=\u001b[39m \u001b[38;5;28;01mNone\u001b[39;00m\n\u001b[0;32m    149\u001b[0m \u001b[38;5;28;01mtry\u001b[39;00m:\n\u001b[1;32m--> 150\u001b[0m   \u001b[38;5;28;01mreturn\u001b[39;00m fn(\u001b[38;5;241m*\u001b[39margs, \u001b[38;5;241m*\u001b[39m\u001b[38;5;241m*\u001b[39mkwargs)\n\u001b[0;32m    151\u001b[0m \u001b[38;5;28;01mexcept\u001b[39;00m \u001b[38;5;167;01mException\u001b[39;00m \u001b[38;5;28;01mas\u001b[39;00m e:\n\u001b[0;32m    152\u001b[0m   filtered_tb \u001b[38;5;241m=\u001b[39m _process_traceback_frames(e\u001b[38;5;241m.\u001b[39m__traceback__)\n",
      "File \u001b[1;32m~\\anaconda3\\envs\\tf-keras-gpu-2\\lib\\site-packages\\tensorflow\\python\\eager\\def_function.py:915\u001b[0m, in \u001b[0;36mFunction.__call__\u001b[1;34m(self, *args, **kwds)\u001b[0m\n\u001b[0;32m    912\u001b[0m compiler \u001b[38;5;241m=\u001b[39m \u001b[38;5;124m\"\u001b[39m\u001b[38;5;124mxla\u001b[39m\u001b[38;5;124m\"\u001b[39m \u001b[38;5;28;01mif\u001b[39;00m \u001b[38;5;28mself\u001b[39m\u001b[38;5;241m.\u001b[39m_jit_compile \u001b[38;5;28;01melse\u001b[39;00m \u001b[38;5;124m\"\u001b[39m\u001b[38;5;124mnonXla\u001b[39m\u001b[38;5;124m\"\u001b[39m\n\u001b[0;32m    914\u001b[0m \u001b[38;5;28;01mwith\u001b[39;00m OptionalXlaContext(\u001b[38;5;28mself\u001b[39m\u001b[38;5;241m.\u001b[39m_jit_compile):\n\u001b[1;32m--> 915\u001b[0m   result \u001b[38;5;241m=\u001b[39m \u001b[38;5;28mself\u001b[39m\u001b[38;5;241m.\u001b[39m_call(\u001b[38;5;241m*\u001b[39margs, \u001b[38;5;241m*\u001b[39m\u001b[38;5;241m*\u001b[39mkwds)\n\u001b[0;32m    917\u001b[0m new_tracing_count \u001b[38;5;241m=\u001b[39m \u001b[38;5;28mself\u001b[39m\u001b[38;5;241m.\u001b[39mexperimental_get_tracing_count()\n\u001b[0;32m    918\u001b[0m without_tracing \u001b[38;5;241m=\u001b[39m (tracing_count \u001b[38;5;241m==\u001b[39m new_tracing_count)\n",
      "File \u001b[1;32m~\\anaconda3\\envs\\tf-keras-gpu-2\\lib\\site-packages\\tensorflow\\python\\eager\\def_function.py:947\u001b[0m, in \u001b[0;36mFunction._call\u001b[1;34m(self, *args, **kwds)\u001b[0m\n\u001b[0;32m    944\u001b[0m   \u001b[38;5;28mself\u001b[39m\u001b[38;5;241m.\u001b[39m_lock\u001b[38;5;241m.\u001b[39mrelease()\n\u001b[0;32m    945\u001b[0m   \u001b[38;5;66;03m# In this case we have created variables on the first call, so we run the\u001b[39;00m\n\u001b[0;32m    946\u001b[0m   \u001b[38;5;66;03m# defunned version which is guaranteed to never create variables.\u001b[39;00m\n\u001b[1;32m--> 947\u001b[0m   \u001b[38;5;28;01mreturn\u001b[39;00m \u001b[38;5;28mself\u001b[39m\u001b[38;5;241m.\u001b[39m_stateless_fn(\u001b[38;5;241m*\u001b[39margs, \u001b[38;5;241m*\u001b[39m\u001b[38;5;241m*\u001b[39mkwds)  \u001b[38;5;66;03m# pylint: disable=not-callable\u001b[39;00m\n\u001b[0;32m    948\u001b[0m \u001b[38;5;28;01melif\u001b[39;00m \u001b[38;5;28mself\u001b[39m\u001b[38;5;241m.\u001b[39m_stateful_fn \u001b[38;5;129;01mis\u001b[39;00m \u001b[38;5;129;01mnot\u001b[39;00m \u001b[38;5;28;01mNone\u001b[39;00m:\n\u001b[0;32m    949\u001b[0m   \u001b[38;5;66;03m# Release the lock early so that multiple threads can perform the call\u001b[39;00m\n\u001b[0;32m    950\u001b[0m   \u001b[38;5;66;03m# in parallel.\u001b[39;00m\n\u001b[0;32m    951\u001b[0m   \u001b[38;5;28mself\u001b[39m\u001b[38;5;241m.\u001b[39m_lock\u001b[38;5;241m.\u001b[39mrelease()\n",
      "File \u001b[1;32m~\\anaconda3\\envs\\tf-keras-gpu-2\\lib\\site-packages\\tensorflow\\python\\eager\\function.py:2956\u001b[0m, in \u001b[0;36mFunction.__call__\u001b[1;34m(self, *args, **kwargs)\u001b[0m\n\u001b[0;32m   2953\u001b[0m \u001b[38;5;28;01mwith\u001b[39;00m \u001b[38;5;28mself\u001b[39m\u001b[38;5;241m.\u001b[39m_lock:\n\u001b[0;32m   2954\u001b[0m   (graph_function,\n\u001b[0;32m   2955\u001b[0m    filtered_flat_args) \u001b[38;5;241m=\u001b[39m \u001b[38;5;28mself\u001b[39m\u001b[38;5;241m.\u001b[39m_maybe_define_function(args, kwargs)\n\u001b[1;32m-> 2956\u001b[0m \u001b[38;5;28;01mreturn\u001b[39;00m \u001b[43mgraph_function\u001b[49m\u001b[38;5;241;43m.\u001b[39;49m\u001b[43m_call_flat\u001b[49m\u001b[43m(\u001b[49m\n\u001b[0;32m   2957\u001b[0m \u001b[43m    \u001b[49m\u001b[43mfiltered_flat_args\u001b[49m\u001b[43m,\u001b[49m\u001b[43m \u001b[49m\u001b[43mcaptured_inputs\u001b[49m\u001b[38;5;241;43m=\u001b[39;49m\u001b[43mgraph_function\u001b[49m\u001b[38;5;241;43m.\u001b[39;49m\u001b[43mcaptured_inputs\u001b[49m\u001b[43m)\u001b[49m\n",
      "File \u001b[1;32m~\\anaconda3\\envs\\tf-keras-gpu-2\\lib\\site-packages\\tensorflow\\python\\eager\\function.py:1853\u001b[0m, in \u001b[0;36mConcreteFunction._call_flat\u001b[1;34m(self, args, captured_inputs, cancellation_manager)\u001b[0m\n\u001b[0;32m   1849\u001b[0m possible_gradient_type \u001b[38;5;241m=\u001b[39m gradients_util\u001b[38;5;241m.\u001b[39mPossibleTapeGradientTypes(args)\n\u001b[0;32m   1850\u001b[0m \u001b[38;5;28;01mif\u001b[39;00m (possible_gradient_type \u001b[38;5;241m==\u001b[39m gradients_util\u001b[38;5;241m.\u001b[39mPOSSIBLE_GRADIENT_TYPES_NONE\n\u001b[0;32m   1851\u001b[0m     \u001b[38;5;129;01mand\u001b[39;00m executing_eagerly):\n\u001b[0;32m   1852\u001b[0m   \u001b[38;5;66;03m# No tape is watching; skip to running the function.\u001b[39;00m\n\u001b[1;32m-> 1853\u001b[0m   \u001b[38;5;28;01mreturn\u001b[39;00m \u001b[38;5;28mself\u001b[39m\u001b[38;5;241m.\u001b[39m_build_call_outputs(\u001b[38;5;28;43mself\u001b[39;49m\u001b[38;5;241;43m.\u001b[39;49m\u001b[43m_inference_function\u001b[49m\u001b[38;5;241;43m.\u001b[39;49m\u001b[43mcall\u001b[49m\u001b[43m(\u001b[49m\n\u001b[0;32m   1854\u001b[0m \u001b[43m      \u001b[49m\u001b[43mctx\u001b[49m\u001b[43m,\u001b[49m\u001b[43m \u001b[49m\u001b[43margs\u001b[49m\u001b[43m,\u001b[49m\u001b[43m \u001b[49m\u001b[43mcancellation_manager\u001b[49m\u001b[38;5;241;43m=\u001b[39;49m\u001b[43mcancellation_manager\u001b[49m\u001b[43m)\u001b[49m)\n\u001b[0;32m   1855\u001b[0m forward_backward \u001b[38;5;241m=\u001b[39m \u001b[38;5;28mself\u001b[39m\u001b[38;5;241m.\u001b[39m_select_forward_and_backward_functions(\n\u001b[0;32m   1856\u001b[0m     args,\n\u001b[0;32m   1857\u001b[0m     possible_gradient_type,\n\u001b[0;32m   1858\u001b[0m     executing_eagerly)\n\u001b[0;32m   1859\u001b[0m forward_function, args_with_tangents \u001b[38;5;241m=\u001b[39m forward_backward\u001b[38;5;241m.\u001b[39mforward()\n",
      "File \u001b[1;32m~\\anaconda3\\envs\\tf-keras-gpu-2\\lib\\site-packages\\tensorflow\\python\\eager\\function.py:499\u001b[0m, in \u001b[0;36m_EagerDefinedFunction.call\u001b[1;34m(self, ctx, args, cancellation_manager)\u001b[0m\n\u001b[0;32m    497\u001b[0m \u001b[38;5;28;01mwith\u001b[39;00m _InterpolateFunctionError(\u001b[38;5;28mself\u001b[39m):\n\u001b[0;32m    498\u001b[0m   \u001b[38;5;28;01mif\u001b[39;00m cancellation_manager \u001b[38;5;129;01mis\u001b[39;00m \u001b[38;5;28;01mNone\u001b[39;00m:\n\u001b[1;32m--> 499\u001b[0m     outputs \u001b[38;5;241m=\u001b[39m \u001b[43mexecute\u001b[49m\u001b[38;5;241;43m.\u001b[39;49m\u001b[43mexecute\u001b[49m\u001b[43m(\u001b[49m\n\u001b[0;32m    500\u001b[0m \u001b[43m        \u001b[49m\u001b[38;5;28;43mstr\u001b[39;49m\u001b[43m(\u001b[49m\u001b[38;5;28;43mself\u001b[39;49m\u001b[38;5;241;43m.\u001b[39;49m\u001b[43msignature\u001b[49m\u001b[38;5;241;43m.\u001b[39;49m\u001b[43mname\u001b[49m\u001b[43m)\u001b[49m\u001b[43m,\u001b[49m\n\u001b[0;32m    501\u001b[0m \u001b[43m        \u001b[49m\u001b[43mnum_outputs\u001b[49m\u001b[38;5;241;43m=\u001b[39;49m\u001b[38;5;28;43mself\u001b[39;49m\u001b[38;5;241;43m.\u001b[39;49m\u001b[43m_num_outputs\u001b[49m\u001b[43m,\u001b[49m\n\u001b[0;32m    502\u001b[0m \u001b[43m        \u001b[49m\u001b[43minputs\u001b[49m\u001b[38;5;241;43m=\u001b[39;49m\u001b[43margs\u001b[49m\u001b[43m,\u001b[49m\n\u001b[0;32m    503\u001b[0m \u001b[43m        \u001b[49m\u001b[43mattrs\u001b[49m\u001b[38;5;241;43m=\u001b[39;49m\u001b[43mattrs\u001b[49m\u001b[43m,\u001b[49m\n\u001b[0;32m    504\u001b[0m \u001b[43m        \u001b[49m\u001b[43mctx\u001b[49m\u001b[38;5;241;43m=\u001b[39;49m\u001b[43mctx\u001b[49m\u001b[43m)\u001b[49m\n\u001b[0;32m    505\u001b[0m   \u001b[38;5;28;01melse\u001b[39;00m:\n\u001b[0;32m    506\u001b[0m     outputs \u001b[38;5;241m=\u001b[39m execute\u001b[38;5;241m.\u001b[39mexecute_with_cancellation(\n\u001b[0;32m    507\u001b[0m         \u001b[38;5;28mstr\u001b[39m(\u001b[38;5;28mself\u001b[39m\u001b[38;5;241m.\u001b[39msignature\u001b[38;5;241m.\u001b[39mname),\n\u001b[0;32m    508\u001b[0m         num_outputs\u001b[38;5;241m=\u001b[39m\u001b[38;5;28mself\u001b[39m\u001b[38;5;241m.\u001b[39m_num_outputs,\n\u001b[1;32m   (...)\u001b[0m\n\u001b[0;32m    511\u001b[0m         ctx\u001b[38;5;241m=\u001b[39mctx,\n\u001b[0;32m    512\u001b[0m         cancellation_manager\u001b[38;5;241m=\u001b[39mcancellation_manager)\n",
      "File \u001b[1;32m~\\anaconda3\\envs\\tf-keras-gpu-2\\lib\\site-packages\\tensorflow\\python\\eager\\execute.py:54\u001b[0m, in \u001b[0;36mquick_execute\u001b[1;34m(op_name, num_outputs, inputs, attrs, ctx, name)\u001b[0m\n\u001b[0;32m     52\u001b[0m \u001b[38;5;28;01mtry\u001b[39;00m:\n\u001b[0;32m     53\u001b[0m   ctx\u001b[38;5;241m.\u001b[39mensure_initialized()\n\u001b[1;32m---> 54\u001b[0m   tensors \u001b[38;5;241m=\u001b[39m \u001b[43mpywrap_tfe\u001b[49m\u001b[38;5;241;43m.\u001b[39;49m\u001b[43mTFE_Py_Execute\u001b[49m\u001b[43m(\u001b[49m\u001b[43mctx\u001b[49m\u001b[38;5;241;43m.\u001b[39;49m\u001b[43m_handle\u001b[49m\u001b[43m,\u001b[49m\u001b[43m \u001b[49m\u001b[43mdevice_name\u001b[49m\u001b[43m,\u001b[49m\u001b[43m \u001b[49m\u001b[43mop_name\u001b[49m\u001b[43m,\u001b[49m\n\u001b[0;32m     55\u001b[0m \u001b[43m                                      \u001b[49m\u001b[43minputs\u001b[49m\u001b[43m,\u001b[49m\u001b[43m \u001b[49m\u001b[43mattrs\u001b[49m\u001b[43m,\u001b[49m\u001b[43m \u001b[49m\u001b[43mnum_outputs\u001b[49m\u001b[43m)\u001b[49m\n\u001b[0;32m     56\u001b[0m \u001b[38;5;28;01mexcept\u001b[39;00m core\u001b[38;5;241m.\u001b[39m_NotOkStatusException \u001b[38;5;28;01mas\u001b[39;00m e:\n\u001b[0;32m     57\u001b[0m   \u001b[38;5;28;01mif\u001b[39;00m name \u001b[38;5;129;01mis\u001b[39;00m \u001b[38;5;129;01mnot\u001b[39;00m \u001b[38;5;28;01mNone\u001b[39;00m:\n",
      "\u001b[1;31mKeyboardInterrupt\u001b[0m: "
     ]
    }
   ],
   "source": [
    "#predicting the values mutliple times for resampling -this was done twice and the values have been saved \n",
    "#to csv files which are imported in the following\n",
    "predictions_train = pd.DataFrame()\n",
    "predictions_test = pd.DataFrame()\n",
    "\n",
    "for i in range(0,100):\n",
    "    model_name = \"model\" + str(i)\n",
    "    print(model_name)\n",
    "    model = KerasRegressor(model=wider_larger_model, verbose=0, epochs = 50, batch_size = 2000, optimizer = \"Adam\",\n",
    "                      optimizer__learning_rate = 0.1, loss = 'mean_squared_error')\n",
    "\n",
    "    # define the grid search parameters\n",
    "    weight_constraint = [4]\n",
    "    \n",
    "    dropout_rate = [0.0]\n",
    "    # Make a dictionary of the grid search parameters\n",
    "    param_grid = dict(model__dropout_rate=dropout_rate, model__weight_constraint = weight_constraint )\n",
    "\n",
    "    grid = GridSearchCV(estimator=model, param_grid = param_grid, n_jobs=1, cv= cross_validation, scoring = \"neg_mean_squared_error\")\n",
    "    grid_result = grid.fit(X_train, y_train)\n",
    "    \n",
    "    y_pred_train = grid.predict(X_train)\n",
    "    y_pred_test = grid.predict(X_test)\n",
    "\n",
    "    predictions_train[model_name] = y_pred_train\n",
    "    predictions_test[model_name] = y_pred_test"
   ]
  },
  {
   "cell_type": "code",
   "execution_count": null,
   "id": "24808116",
   "metadata": {},
   "outputs": [],
   "source": [
    "predictions_train.to_csv(\"predictions_train3.csv\")\n",
    "predictions_test.to_csv(\"predictions_test3.csv\")"
   ]
  },
  {
   "cell_type": "code",
   "execution_count": 14,
   "id": "c0303041",
   "metadata": {},
   "outputs": [],
   "source": [
    "#read the predictions files which have multiple predictions from different DL models \n",
    "predictions_train = pd.read_csv(\"predictions_train3.csv\", index_col = 0)\n",
    "predictions_test = pd.read_csv(\"predictions_test3.csv\", index_col = 0)"
   ]
  },
  {
   "cell_type": "code",
   "execution_count": 15,
   "id": "2991c336",
   "metadata": {},
   "outputs": [],
   "source": [
    "#calculate the mean per row \n",
    "y_pred_test_mean = predictions_test.apply(lambda x: x.mean(), axis = 1)\n",
    "y_pred_train_mean = predictions_train.apply(lambda x: x.mean(), axis = 1)"
   ]
  },
  {
   "cell_type": "code",
   "execution_count": 16,
   "id": "7465025d",
   "metadata": {},
   "outputs": [
    {
     "name": "stdout",
     "output_type": "stream",
     "text": [
      "Average test MAE =  3.425623415139874\n",
      "Average test MSE =  124.09108632106108\n",
      "Average train MAE =  3.4894954841565013\n",
      "Average train MSE =  137.18950978178245\n"
     ]
    }
   ],
   "source": [
    "#calculate error measures with the mean of the 100 predictions\n",
    "MSE = mean_squared_error(y_test , y_pred_test_mean)\n",
    "MAE = mean_absolute_error(y_test, y_pred_test_mean)\n",
    "print('Average test MAE = ', MAE)\n",
    "print('Average test MSE = ', MSE)\n",
    "\n",
    "MSE = mean_squared_error(y_train , y_pred_train_mean)\n",
    "MAE = mean_absolute_error(y_train, y_pred_train_mean)\n",
    "print('Average train MAE = ', MAE)\n",
    "print('Average train MSE = ', MSE)"
   ]
  },
  {
   "cell_type": "markdown",
   "id": "74b50fef",
   "metadata": {},
   "source": [
    "Average test MAE =  3.425623415139874\n",
    "Average test MSE =  124.09108632106108\n",
    "Average train MAE =  3.4894954841565013\n",
    "Average train MSE =  137.18950978178245"
   ]
  },
  {
   "cell_type": "code",
   "execution_count": 17,
   "id": "711e7806",
   "metadata": {},
   "outputs": [
    {
     "name": "stdout",
     "output_type": "stream",
     "text": [
      "Single Model test MAE =  3.8956172\n",
      "Single Model test MSE =  160.8108\n",
      "Single Model train MAE =  3.978242\n",
      "Single Model train MSE =  178.38228\n"
     ]
    }
   ],
   "source": [
    "#compare error mean error measure to the one from the one trained neural network\n",
    "MSE = mean_squared_error(y_test , y_pred_test1)\n",
    "MAE = mean_absolute_error(y_test, y_pred_test1)\n",
    "print('Single Model test MAE = ', MAE)\n",
    "print('Single Model test MSE = ', MSE)\n",
    "\n",
    "MSE = mean_squared_error(y_train , y_pred_train1)\n",
    "MAE = mean_absolute_error(y_train, y_pred_train1)\n",
    "print('Single Model train MAE = ', MAE)\n",
    "print('Single Model train MSE = ', MSE)"
   ]
  },
  {
   "cell_type": "markdown",
   "id": "e9a1ecf6",
   "metadata": {},
   "source": [
    "Single Model test MAE =  3.52456\n",
    "Single Model test MSE =  140.92168\n",
    "Single Model train MAE =  3.5643253\n",
    "Single Model train MSE =  151.70477"
   ]
  },
  {
   "cell_type": "markdown",
   "id": "f0529b1c",
   "metadata": {},
   "source": [
    "The average error measures of the many models always outperform the error measures of the predictions resulting from one neural network. "
   ]
  },
  {
   "cell_type": "markdown",
   "id": "b718b8db",
   "metadata": {},
   "source": [
    "#### Creating Confidence Intervals"
   ]
  },
  {
   "cell_type": "markdown",
   "id": "2639972a",
   "metadata": {},
   "source": [
    "The confidence interval for the predictions is calculated by making use of the resampling bootstrap method. In specific, the data is resampled 100 times with 100 observations per resample. The mean of each resample is then calculated and used to construct a confidence interval."
   ]
  },
  {
   "cell_type": "code",
   "execution_count": 23,
   "id": "79ef7837",
   "metadata": {},
   "outputs": [],
   "source": [
    "resample_mean_mean = [] #mean of the resample\n",
    "lower_ci = [] #lower confidence interval of resampled mean\n",
    "upper_ci =  [] #upper confidence interval of resampled mean\n",
    "alpha = 0.95 #confidence level\n",
    "df = pd.DataFrame(columns = range(1, 200) )\n",
    "\n",
    "for index, row in predictions_test.iterrows():\n",
    "    resample_mean = []\n",
    "    \n",
    "    for i in range(1, 200):\n",
    "        row_temp = predictions_test.loc[index, :].values.tolist()\n",
    "        y = random.choices(row_temp, k = 100)\n",
    "        avg = np.mean(y)\n",
    "        resample_mean.append(avg)\n",
    "    \n",
    "    #calculate the confidence interval for ther resampled means \n",
    "    resample_mean.sort()\n",
    "    df.loc[len(df)] = resample_mean\n",
    "    lower = np.percentile(resample_mean, 1)\n",
    "    upper = np.percentile(resample_mean,99)\n",
    "    \n",
    "  #  x = np.percentile(resample_mean, [1, 50, 97.5])\n",
    "    lower_ci.append(lower)\n",
    "    upper_ci.append(upper)\n",
    "    \n",
    "    #calculate the mean of the resampled means\n",
    "    resample_mean_mean.append(np.mean(resample_mean))"
   ]
  },
  {
   "cell_type": "code",
   "execution_count": 24,
   "id": "0934ee4d",
   "metadata": {},
   "outputs": [
    {
     "data": {
      "text/html": [
       "<div>\n",
       "<style scoped>\n",
       "    .dataframe tbody tr th:only-of-type {\n",
       "        vertical-align: middle;\n",
       "    }\n",
       "\n",
       "    .dataframe tbody tr th {\n",
       "        vertical-align: top;\n",
       "    }\n",
       "\n",
       "    .dataframe thead th {\n",
       "        text-align: right;\n",
       "    }\n",
       "</style>\n",
       "<table border=\"1\" class=\"dataframe\">\n",
       "  <thead>\n",
       "    <tr style=\"text-align: right;\">\n",
       "      <th></th>\n",
       "      <th>lower_ci</th>\n",
       "      <th>upper_ci</th>\n",
       "      <th>resample_mean</th>\n",
       "      <th>original_mean</th>\n",
       "      <th>original_pred</th>\n",
       "      <th>actual_value</th>\n",
       "    </tr>\n",
       "  </thead>\n",
       "  <tbody>\n",
       "    <tr>\n",
       "      <th>0</th>\n",
       "      <td>0.544610</td>\n",
       "      <td>0.669257</td>\n",
       "      <td>0.612732</td>\n",
       "      <td>0.615182</td>\n",
       "      <td>0.491900</td>\n",
       "      <td>0</td>\n",
       "    </tr>\n",
       "    <tr>\n",
       "      <th>1</th>\n",
       "      <td>0.666900</td>\n",
       "      <td>0.809293</td>\n",
       "      <td>0.733965</td>\n",
       "      <td>0.731816</td>\n",
       "      <td>0.566721</td>\n",
       "      <td>0</td>\n",
       "    </tr>\n",
       "    <tr>\n",
       "      <th>2</th>\n",
       "      <td>0.603244</td>\n",
       "      <td>0.746687</td>\n",
       "      <td>0.670402</td>\n",
       "      <td>0.669120</td>\n",
       "      <td>0.700632</td>\n",
       "      <td>0</td>\n",
       "    </tr>\n",
       "    <tr>\n",
       "      <th>3</th>\n",
       "      <td>0.590529</td>\n",
       "      <td>0.713028</td>\n",
       "      <td>0.651849</td>\n",
       "      <td>0.647724</td>\n",
       "      <td>0.778255</td>\n",
       "      <td>0</td>\n",
       "    </tr>\n",
       "    <tr>\n",
       "      <th>4</th>\n",
       "      <td>53.405667</td>\n",
       "      <td>61.876157</td>\n",
       "      <td>57.815335</td>\n",
       "      <td>57.721309</td>\n",
       "      <td>103.667969</td>\n",
       "      <td>50</td>\n",
       "    </tr>\n",
       "    <tr>\n",
       "      <th>...</th>\n",
       "      <td>...</td>\n",
       "      <td>...</td>\n",
       "      <td>...</td>\n",
       "      <td>...</td>\n",
       "      <td>...</td>\n",
       "      <td>...</td>\n",
       "    </tr>\n",
       "    <tr>\n",
       "      <th>7999</th>\n",
       "      <td>0.639898</td>\n",
       "      <td>0.813848</td>\n",
       "      <td>0.727467</td>\n",
       "      <td>0.724869</td>\n",
       "      <td>0.536934</td>\n",
       "      <td>0</td>\n",
       "    </tr>\n",
       "    <tr>\n",
       "      <th>8000</th>\n",
       "      <td>0.641280</td>\n",
       "      <td>0.797576</td>\n",
       "      <td>0.710796</td>\n",
       "      <td>0.707389</td>\n",
       "      <td>0.584453</td>\n",
       "      <td>4</td>\n",
       "    </tr>\n",
       "    <tr>\n",
       "      <th>8001</th>\n",
       "      <td>1.137394</td>\n",
       "      <td>1.794948</td>\n",
       "      <td>1.401095</td>\n",
       "      <td>1.416263</td>\n",
       "      <td>0.675895</td>\n",
       "      <td>0</td>\n",
       "    </tr>\n",
       "    <tr>\n",
       "      <th>8002</th>\n",
       "      <td>0.533847</td>\n",
       "      <td>0.653332</td>\n",
       "      <td>0.594448</td>\n",
       "      <td>0.590827</td>\n",
       "      <td>0.502971</td>\n",
       "      <td>0</td>\n",
       "    </tr>\n",
       "    <tr>\n",
       "      <th>8003</th>\n",
       "      <td>0.913339</td>\n",
       "      <td>1.140277</td>\n",
       "      <td>1.010754</td>\n",
       "      <td>1.008641</td>\n",
       "      <td>1.023673</td>\n",
       "      <td>0</td>\n",
       "    </tr>\n",
       "  </tbody>\n",
       "</table>\n",
       "<p>8004 rows × 6 columns</p>\n",
       "</div>"
      ],
      "text/plain": [
       "       lower_ci   upper_ci  resample_mean  original_mean  original_pred  \\\n",
       "0      0.544610   0.669257       0.612732       0.615182       0.491900   \n",
       "1      0.666900   0.809293       0.733965       0.731816       0.566721   \n",
       "2      0.603244   0.746687       0.670402       0.669120       0.700632   \n",
       "3      0.590529   0.713028       0.651849       0.647724       0.778255   \n",
       "4     53.405667  61.876157      57.815335      57.721309     103.667969   \n",
       "...         ...        ...            ...            ...            ...   \n",
       "7999   0.639898   0.813848       0.727467       0.724869       0.536934   \n",
       "8000   0.641280   0.797576       0.710796       0.707389       0.584453   \n",
       "8001   1.137394   1.794948       1.401095       1.416263       0.675895   \n",
       "8002   0.533847   0.653332       0.594448       0.590827       0.502971   \n",
       "8003   0.913339   1.140277       1.010754       1.008641       1.023673   \n",
       "\n",
       "      actual_value  \n",
       "0                0  \n",
       "1                0  \n",
       "2                0  \n",
       "3                0  \n",
       "4               50  \n",
       "...            ...  \n",
       "7999             0  \n",
       "8000             4  \n",
       "8001             0  \n",
       "8002             0  \n",
       "8003             0  \n",
       "\n",
       "[8004 rows x 6 columns]"
      ]
     },
     "execution_count": 24,
     "metadata": {},
     "output_type": "execute_result"
    }
   ],
   "source": [
    "#all the different calculated measures are written into a new dataframe\n",
    "new_df = pd.DataFrame()\n",
    "\n",
    "new_df[\"lower_ci\"] = lower_ci\n",
    "new_df[\"upper_ci\"] = upper_ci\n",
    "new_df[\"resample_mean\"] = resample_mean_mean\n",
    "new_df[\"original_mean\"] = predictions_test.apply(lambda x: x.mean(), axis = 1)\n",
    "#new_df[\"difference\"] = new_df[\"upper_ci\"] - new_df[\"lower_ci\"] \n",
    "new_df[\"original_pred\"] = y_pred_test1\n",
    "new_df[\"actual_value\"] = y_test.to_numpy()\n",
    "new_df"
   ]
  },
  {
   "cell_type": "code",
   "execution_count": 30,
   "id": "0f7bb78b",
   "metadata": {},
   "outputs": [],
   "source": [
    "#visualize the different values for one specific prediciton\n",
    "preds = df[26:27].to_numpy()\n",
    "preds = preds[0]\n",
    "preds_lower_ci = new_df.iloc[26]['lower_ci']\n",
    "preds_upper_ci = new_df.iloc[26]['upper_ci']\n",
    "preds_resample_mean = new_df.iloc[26]['resample_mean']\n",
    "preds_original = new_df.iloc[26]['original_pred']\n",
    "preds_actual = new_df.iloc[26]['actual_value']"
   ]
  },
  {
   "cell_type": "code",
   "execution_count": 32,
   "id": "f25c2f40",
   "metadata": {},
   "outputs": [
    {
     "name": "stderr",
     "output_type": "stream",
     "text": [
      "C:\\Users\\Shadow\\AppData\\Local\\Temp\\ipykernel_11568\\1866305771.py:1: FutureWarning: \n",
      "\n",
      "`shade` is now deprecated in favor of `fill`; setting `fill=True`.\n",
      "This will become an error in seaborn v0.14.0; please update your code.\n",
      "\n",
      "  sns.kdeplot(preds, shade=True, color = \"lightgreen\", label = \"resampled means\")\n"
     ]
    },
    {
     "data": {
      "image/png": "[encoded data removed]",
      "text/plain": [
       "<Figure size 640x480 with 1 Axes>"
      ]
     },
     "metadata": {},
     "output_type": "display_data"
    }
   ],
   "source": [
    "sns.kdeplot(preds, shade=True, color = \"lightgreen\", label = \"resampled means\")\n",
    "plt.vlines(preds_lower_ci, 0, 0.25, color='skyblue', label = \"lower CI\")\n",
    "plt.vlines(preds_upper_ci, 0, 0.25, color = 'skyblue', label = \"upper CI\")\n",
    "plt.vlines(preds_resample_mean, 0, 0.25, color = 'green', label = \"mean of resampled means\")\n",
    "plt.vlines(preds_original,0, 0.25, color = 'grey', label = \"original prediction\")\n",
    "plt.vlines(preds_actual,0, 0.25, color = 'black', label = \"actual value\")\n",
    "\n",
    "plt.legend(loc = \"upper right\")\n",
    "plt.title(\"Density Plot for Predictions including Confidence Intervals (CI)\")\n",
    "plt.xlabel(\"Prediction\")\n",
    "plt.show()"
   ]
  },
  {
   "cell_type": "markdown",
   "id": "80221de9",
   "metadata": {},
   "source": [
    "#### Calculate some more metrics with rounding"
   ]
  },
  {
   "cell_type": "code",
   "execution_count": 23,
   "id": "f857cf6d",
   "metadata": {},
   "outputs": [],
   "source": [
    "#original metrics from one neural network rounded\n",
    "y_pred_test1_rounded_floor = new_df[\"original_pred\"].apply(np.floor)\n",
    "y_pred_test1_rounded_ceiling = new_df[\"original_pred\"].apply(np.ceil)"
   ]
  },
  {
   "cell_type": "code",
   "execution_count": 24,
   "id": "fb84ecdf",
   "metadata": {},
   "outputs": [
    {
     "name": "stdout",
     "output_type": "stream",
     "text": [
      "Original Prediction floor rounding MAE =  3.0769615\n",
      "Original Prediction floor rounding MSE =  142.03398\n",
      "Original Prediction ceiling rounding MAE =  3.7873564\n",
      "Original Prediction ceiling rounding MSE =  140.4083\n"
     ]
    }
   ],
   "source": [
    "#metrics with floor \n",
    "MSE_test = mean_squared_error(y_test, y_pred_test1_rounded_floor)\n",
    "MAE_test = mean_absolute_error(y_test , y_pred_test1_rounded_floor)\n",
    "print('Original Prediction floor rounding MAE = ', MAE_test)\n",
    "print('Original Prediction floor rounding MSE = ', MSE_test)\n",
    "\n",
    "# metrics with ceiling \n",
    "MSE_test = mean_squared_error(y_test, y_pred_test1_rounded_ceiling)\n",
    "MAE_test = mean_absolute_error(y_test , y_pred_test1_rounded_ceiling)\n",
    "print('Original Prediction ceiling rounding MAE = ', MAE_test)\n",
    "print('Original Prediction ceiling rounding MSE = ', MSE_test)"
   ]
  },
  {
   "cell_type": "markdown",
   "id": "bb09e972",
   "metadata": {},
   "source": [
    "Original Prediction floor rounding MAE =  3.0769615\n",
    "Original Prediction floor rounding MSE =  142.03398\n",
    "Original Prediction ceiling rounding MAE =  3.7873564\n",
    "Original Prediction ceiling rounding MSE =  140.4083"
   ]
  },
  {
   "cell_type": "code",
   "execution_count": 25,
   "id": "d236e434",
   "metadata": {},
   "outputs": [
    {
     "name": "stdout",
     "output_type": "stream",
     "text": [
      "Original Prediction 0.3 rounding MAE =  3.671789105447276\n",
      "Original Prediction 0.3 rounding MSE =  140.76299350324837\n",
      "Original Prediction 0.9 rounding MAE =  3.143303348325837\n",
      "Original Prediction 0.9 rounding MSE =  141.74550224887557\n"
     ]
    }
   ],
   "source": [
    "#metrics on the rouded after 0.3 data\n",
    "y_pred_mean_rounded3 = [round_over_3(i) for i in y_pred_test1]\n",
    "\n",
    "MSE_test = mean_squared_error(y_test, y_pred_mean_rounded3)\n",
    "MAE_test = mean_absolute_error(y_test , y_pred_mean_rounded3)\n",
    "print('Original Prediction 0.3 rounding MAE = ', MAE_test)\n",
    "print('Original Prediction 0.3 rounding MSE = ', MSE_test)\n",
    "\n",
    "#metrics on the rouded after 0.9 data\n",
    "y_pred_mean_rounded9 = [round_over_9(i) for i in y_pred_test1]\n",
    "\n",
    "MSE_test = mean_squared_error(y_test, y_pred_mean_rounded9)\n",
    "MAE_test = mean_absolute_error(y_test , y_pred_mean_rounded9)\n",
    "print('Original Prediction 0.9 rounding MAE = ', MAE_test)\n",
    "print('Original Prediction 0.9 rounding MSE = ', MSE_test)"
   ]
  },
  {
   "cell_type": "markdown",
   "id": "04229ccf",
   "metadata": {},
   "source": [
    "Original Prediction 0.3 rounding MAE =  3.671789105447276\n",
    "Original Prediction 0.3 rounding MSE =  140.76299350324837\n",
    "Original Prediction 0.9 rounding MAE =  3.143303348325837\n",
    "Original Prediction 0.9 rounding MSE =  141.74550224887557\n"
   ]
  },
  {
   "cell_type": "markdown",
   "id": "67c984f6",
   "metadata": {},
   "source": [
    "rounded_floor performs best in comparison to all rounding methods!"
   ]
  },
  {
   "cell_type": "code",
   "execution_count": 26,
   "id": "eda150b0",
   "metadata": {},
   "outputs": [
    {
     "name": "stdout",
     "output_type": "stream",
     "text": [
      "Resampled Mean test MAE =  3.426208761544967\n",
      "Resampled Mean test MSE =  124.1974301505221\n"
     ]
    }
   ],
   "source": [
    "#metrics on resampled mean - performs better than any of the above\n",
    "y_pred_resampled_mean = new_df[[\"resample_mean\"]].to_numpy() \n",
    "MSE_test = mean_squared_error(y_test, y_pred_resampled_mean)\n",
    "MAE_test = mean_absolute_error(y_test , y_pred_resampled_mean)\n",
    "print('Resampled Mean test MAE = ', MAE_test)\n",
    "print('Resampled Mean test MSE = ', MSE_test)"
   ]
  },
  {
   "cell_type": "markdown",
   "id": "872fc4d9",
   "metadata": {},
   "source": [
    "Resampled Mean test MAE =  3.426208761544967\n",
    "Resampled Mean test MSE =  124.1974301505221"
   ]
  },
  {
   "cell_type": "code",
   "execution_count": 27,
   "id": "ae350982",
   "metadata": {},
   "outputs": [
    {
     "name": "stdout",
     "output_type": "stream",
     "text": [
      "Resampled Mean floor_rounding test MAE =  2.973513243378311\n",
      "Resampled Mean floor_rounding test MSE =  124.77561219390304\n"
     ]
    }
   ],
   "source": [
    "#metrics on the resampled mean rounded down\n",
    "new_df[\"rounded_down\"] = new_df[\"resample_mean\"].apply(np.floor)\n",
    "y_pred_resampled_floor = new_df[[\"rounded_down\"]].to_numpy() \n",
    "\n",
    "#metrics on floor\n",
    "MSE_test = mean_squared_error(y_test, y_pred_resampled_floor)\n",
    "MAE_test = mean_absolute_error(y_test , y_pred_resampled_floor)\n",
    "print('Resampled Mean floor_rounding test MAE = ', MAE_test)\n",
    "print('Resampled Mean floor_rounding test MSE = ', MSE_test)"
   ]
  },
  {
   "cell_type": "markdown",
   "id": "c1fc1198",
   "metadata": {},
   "source": [
    "Resampled Mean floor_rounding test MAE =  2.973513243378311\n",
    "Resampled Mean floor_rounding test MSE =  124.77561219390304"
   ]
  },
  {
   "cell_type": "markdown",
   "id": "9c1cdc13",
   "metadata": {},
   "source": [
    "Resampled mean rounded down performs best!"
   ]
  },
  {
   "cell_type": "code",
   "execution_count": 28,
   "id": "608c314c",
   "metadata": {},
   "outputs": [
    {
     "name": "stdout",
     "output_type": "stream",
     "text": [
      "Resampled Mean ceiling_rounding test MAE =  3.714142928535732\n",
      "Resampled Mean ceiling_rounding test MSE =  124.22688655672164\n"
     ]
    }
   ],
   "source": [
    "#metrics on the rounded up data\n",
    "new_df[\"rounded_up\"] = new_df[\"resample_mean\"].apply(np.ceil)\n",
    "y_pred_resampled_ceil = new_df[[\"rounded_up\"]].to_numpy() \n",
    "                      \n",
    "#metrics on ceiling\n",
    "MSE_test = mean_squared_error(y_test, y_pred_resampled_ceil)\n",
    "MAE_test = mean_absolute_error(y_test , y_pred_resampled_ceil)\n",
    "print('Resampled Mean ceiling_rounding test MAE = ', MAE_test)\n",
    "print('Resampled Mean ceiling_rounding test MSE = ', MSE_test)"
   ]
  },
  {
   "cell_type": "markdown",
   "id": "33d89f62",
   "metadata": {},
   "source": [
    "Resampled Mean ceiling_rounding test MAE =  3.714142928535732\n",
    "Resampled Mean ceiling_rounding test MSE =  124.22688655672164"
   ]
  },
  {
   "cell_type": "code",
   "execution_count": 29,
   "id": "dffb7dbc",
   "metadata": {},
   "outputs": [
    {
     "name": "stdout",
     "output_type": "stream",
     "text": [
      "Resampled Mean 0.9_rounding test MAE =  3.0219890054972516\n",
      "Resampled Mean 0.9_rounding test MSE =  124.65992003998001\n"
     ]
    }
   ],
   "source": [
    "#metrics on the rounded down data 0.9\n",
    "y_pred_resampled = new_df[[\"resample_mean\"]].to_numpy() \n",
    "y_pred_resampled_mean_rounded9 = [round_over_9(i) for i in y_pred_resampled]\n",
    "\n",
    "MSE_test = mean_squared_error(y_test, y_pred_resampled_mean_rounded9)\n",
    "MAE_test = mean_absolute_error(y_test , y_pred_resampled_mean_rounded9)\n",
    "print('Resampled Mean 0.9_rounding test MAE = ', MAE_test)\n",
    "print('Resampled Mean 0.9_rounding test MSE = ', MSE_test)"
   ]
  },
  {
   "cell_type": "markdown",
   "id": "4cc7b67c",
   "metadata": {},
   "source": [
    "Resampled Mean 0.9_rounding test MAE =  3.0219890054972516\n",
    "Resampled Mean 0.9_rounding test MSE =  124.65992003998001"
   ]
  },
  {
   "cell_type": "markdown",
   "id": "436ae3bf",
   "metadata": {},
   "source": [
    "Rounding all entries down produces the best predictions!\n",
    "\n",
    "Resampling the data and calculating the mean of the resamples produces the most accurate results. In addition, this methods has the advantage of providing confidence intervals which is good for interpretation purposes and allocation of resources regarding conflict predictions. "
   ]
  }
 ],
 "metadata": {
  "kernelspec": {
   "display_name": "Python 3 (ipykernel)",
   "language": "python",
   "name": "python3"
  },
  "language_info": {
   "codemirror_mode": {
    "name": "ipython",
    "version": 3
   },
   "file_extension": ".py",
   "mimetype": "text/x-python",
   "name": "python",
   "nbconvert_exporter": "python",
   "pygments_lexer": "ipython3",
   "version": "3.9.12"
  }
 },
 "nbformat": 4,
 "nbformat_minor": 5
}
