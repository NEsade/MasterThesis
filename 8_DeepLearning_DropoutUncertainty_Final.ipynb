{
 "cells": [
  {
   "cell_type": "markdown",
   "id": "70bb8b96",
   "metadata": {},
   "source": [
    "## Deep Learning Dropout Uncertainty"
   ]
  },
  {
   "cell_type": "markdown",
   "id": "001634e7",
   "metadata": {},
   "source": [
    "This notebook introduces dropout uncertainty into the neural network by implementing the Monte Carlo Dropout."
   ]
  },
  {
   "cell_type": "code",
   "execution_count": 1,
   "id": "59a6b1f7",
   "metadata": {},
   "outputs": [],
   "source": [
    "#importing necessary packages\n",
    "import keras\n",
    "from keras.models import Sequential, Model\n",
    "from keras.layers import Activation, Dense, Input\n",
    "import pandas as pd\n",
    "import numpy as np\n",
    "import random\n",
    "from scikeras.wrappers import KerasRegressor\n",
    "from sklearn.model_selection import KFold\n",
    "from sklearn.pipeline import Pipeline\n",
    "from sklearn.metrics import mean_absolute_error\n",
    "from sklearn.metrics import mean_squared_error\n",
    "from keras.backend import clear_session\n",
    "from keras.models import Sequential\n",
    "import tensorflow as tf\n",
    "from sklearn.preprocessing import MinMaxScaler\n",
    "from sklearn.preprocessing import StandardScaler\n",
    "from keras.backend import clear_session\n",
    "from sklearn.model_selection import GridSearchCV\n",
    "from tensorflow.keras.layers import Dropout\n",
    "from tensorflow.keras.constraints import MaxNorm\n",
    "import seaborn as sns\n",
    "import matplotlib.pyplot as plt"
   ]
  },
  {
   "cell_type": "code",
   "execution_count": 2,
   "id": "7ec94760",
   "metadata": {},
   "outputs": [],
   "source": [
    "#removing the seed for the cross validation and tensorflow so that each trained neural network produces slightly different results\n",
    "cross_validation = KFold(n_splits = 3, shuffle = True, random_state = 10)\n",
    "\n",
    "seed = 14\n",
    "tf.random.set_seed(14)"
   ]
  },
  {
   "cell_type": "code",
   "execution_count": 3,
   "id": "f3eff808",
   "metadata": {},
   "outputs": [
    {
     "name": "stdout",
     "output_type": "stream",
     "text": [
      "[name: \"/device:CPU:0\"\n",
      "device_type: \"CPU\"\n",
      "memory_limit: 268435456\n",
      "locality {\n",
      "}\n",
      "incarnation: 11112664836862617515\n",
      "xla_global_id: -1\n",
      ", name: \"/device:GPU:0\"\n",
      "device_type: \"GPU\"\n",
      "memory_limit: 15513944064\n",
      "locality {\n",
      "  bus_id: 1\n",
      "  links {\n",
      "  }\n",
      "}\n",
      "incarnation: 5496216633422182882\n",
      "physical_device_desc: \"device: 0, name: Quadro P5000, pci bus id: 0000:02:00.0, compute capability: 6.1\"\n",
      "xla_global_id: 416903419\n",
      "]\n"
     ]
    }
   ],
   "source": [
    "#checking if GPU is being used \n",
    "from tensorflow.python.client import device_lib\n",
    "print(device_lib.list_local_devices())"
   ]
  },
  {
   "cell_type": "code",
   "execution_count": 4,
   "id": "c5c9032a",
   "metadata": {},
   "outputs": [],
   "source": [
    "#read dataframe from the Data Preparation Notebook \n",
    "df_complete3 = pd.read_pickle('df_complete3_v3.pickle')"
   ]
  },
  {
   "cell_type": "code",
   "execution_count": 5,
   "id": "64a5da1a",
   "metadata": {},
   "outputs": [],
   "source": [
    "#change types of the whole dataframe so that we do not run out of memory during the training process \n",
    "df_complete3 = df_complete3.astype(np.uint8)"
   ]
  },
  {
   "cell_type": "code",
   "execution_count": 6,
   "id": "63bacefd",
   "metadata": {},
   "outputs": [],
   "source": [
    "#split off target column\n",
    "target_column = df_complete3['number of conflicts']\n",
    "df_complete3.drop(columns = ['number of conflicts'], inplace = True)"
   ]
  },
  {
   "cell_type": "code",
   "execution_count": 7,
   "id": "5edaab5f",
   "metadata": {},
   "outputs": [],
   "source": [
    "#perform train-test-split\n",
    "from sklearn.model_selection import train_test_split\n",
    "X_train, X_test, y_train, y_test = train_test_split(df_complete3, target_column, test_size = 0.08, random_state = 0)\n"
   ]
  },
  {
   "cell_type": "code",
   "execution_count": 8,
   "id": "8b7e1318",
   "metadata": {},
   "outputs": [
    {
     "name": "stderr",
     "output_type": "stream",
     "text": [
      "C:\\Users\\Shadow\\anaconda3\\envs\\tf-keras-gpu-2\\lib\\site-packages\\sklearn\\utils\\validation.py:1858: FutureWarning: Feature names only support names that are all strings. Got feature names with dtypes: ['int', 'str']. An error will be raised in 1.2.\n",
      "  warnings.warn(\n",
      "C:\\Users\\Shadow\\anaconda3\\envs\\tf-keras-gpu-2\\lib\\site-packages\\sklearn\\utils\\validation.py:1858: FutureWarning: Feature names only support names that are all strings. Got feature names with dtypes: ['int', 'str']. An error will be raised in 1.2.\n",
      "  warnings.warn(\n",
      "C:\\Users\\Shadow\\anaconda3\\envs\\tf-keras-gpu-2\\lib\\site-packages\\sklearn\\utils\\validation.py:1858: FutureWarning: Feature names only support names that are all strings. Got feature names with dtypes: ['int', 'str']. An error will be raised in 1.2.\n",
      "  warnings.warn(\n"
     ]
    }
   ],
   "source": [
    "#normalize the data with a StandardScaler - performance regarding simple model is better, so we continue with the Standard Scaler!\n",
    "sc = StandardScaler()\n",
    "X_train = sc.fit_transform(X_train)\n",
    "X_test = sc.transform(X_test)"
   ]
  },
  {
   "cell_type": "code",
   "execution_count": 9,
   "id": "26d53c4e",
   "metadata": {},
   "outputs": [],
   "source": [
    "#change the dropout setting through the class\n",
    "class MontheCarloDropout(keras.layers.Dropout):\n",
    "    def call(self, inputs):\n",
    "        return super().call(inputs, training = False)"
   ]
  },
  {
   "cell_type": "code",
   "execution_count": 10,
   "id": "6983c72a",
   "metadata": {},
   "outputs": [
    {
     "name": "stdout",
     "output_type": "stream",
     "text": [
      "Epoch 1/50\n",
      "47/47 [==============================] - 2s 11ms/step - loss: 320.9381 - mean_squared_error: 320.9381\n",
      "Epoch 2/50\n",
      "47/47 [==============================] - 1s 11ms/step - loss: 291.7386 - mean_squared_error: 291.7386\n",
      "Epoch 3/50\n",
      "47/47 [==============================] - 1s 11ms/step - loss: 260.8683 - mean_squared_error: 260.8683\n",
      "Epoch 4/50\n",
      "47/47 [==============================] - 1s 11ms/step - loss: 231.1536 - mean_squared_error: 231.1536\n",
      "Epoch 5/50\n",
      "47/47 [==============================] - 1s 11ms/step - loss: 197.4563 - mean_squared_error: 197.4563\n",
      "Epoch 6/50\n",
      "47/47 [==============================] - 1s 12ms/step - loss: 197.2903 - mean_squared_error: 197.2903\n",
      "Epoch 7/50\n",
      "47/47 [==============================] - 1s 12ms/step - loss: 180.7682 - mean_squared_error: 180.7682\n",
      "Epoch 8/50\n",
      "47/47 [==============================] - 1s 12ms/step - loss: 169.9673 - mean_squared_error: 169.9673\n",
      "Epoch 9/50\n",
      "47/47 [==============================] - 1s 11ms/step - loss: 229.1109 - mean_squared_error: 229.1109\n",
      "Epoch 10/50\n",
      "47/47 [==============================] - 1s 11ms/step - loss: 172.8432 - mean_squared_error: 172.8432\n",
      "Epoch 11/50\n",
      "47/47 [==============================] - 1s 12ms/step - loss: 176.2812 - mean_squared_error: 176.2812\n",
      "Epoch 12/50\n",
      "47/47 [==============================] - 1s 13ms/step - loss: 163.7327 - mean_squared_error: 163.7327\n",
      "Epoch 13/50\n",
      "47/47 [==============================] - 1s 12ms/step - loss: 181.0461 - mean_squared_error: 181.0461\n",
      "Epoch 14/50\n",
      "47/47 [==============================] - 1s 12ms/step - loss: 167.1907 - mean_squared_error: 167.1907\n",
      "Epoch 15/50\n",
      "47/47 [==============================] - 1s 12ms/step - loss: 158.5377 - mean_squared_error: 158.5377\n",
      "Epoch 16/50\n",
      "47/47 [==============================] - 1s 12ms/step - loss: 155.3336 - mean_squared_error: 155.3336\n",
      "Epoch 17/50\n",
      "47/47 [==============================] - 1s 12ms/step - loss: 151.6767 - mean_squared_error: 151.6767\n",
      "Epoch 18/50\n",
      "47/47 [==============================] - 1s 12ms/step - loss: 149.4002 - mean_squared_error: 149.4002\n",
      "Epoch 19/50\n",
      "47/47 [==============================] - 1s 12ms/step - loss: 147.7410 - mean_squared_error: 147.7410\n",
      "Epoch 20/50\n",
      "47/47 [==============================] - 1s 12ms/step - loss: 188.2920 - mean_squared_error: 188.2920\n",
      "Epoch 21/50\n",
      "47/47 [==============================] - 1s 12ms/step - loss: 144.4613 - mean_squared_error: 144.4613\n",
      "Epoch 22/50\n",
      "47/47 [==============================] - 1s 13ms/step - loss: 144.2373 - mean_squared_error: 144.2373\n",
      "Epoch 23/50\n",
      "47/47 [==============================] - 1s 13ms/step - loss: 140.0842 - mean_squared_error: 140.0842\n",
      "Epoch 24/50\n",
      "47/47 [==============================] - 1s 13ms/step - loss: 144.9553 - mean_squared_error: 144.9553\n",
      "Epoch 25/50\n",
      "47/47 [==============================] - 1s 13ms/step - loss: 137.2189 - mean_squared_error: 137.2189\n",
      "Epoch 26/50\n",
      "47/47 [==============================] - 1s 12ms/step - loss: 132.8250 - mean_squared_error: 132.8250\n",
      "Epoch 27/50\n",
      "47/47 [==============================] - 1s 13ms/step - loss: 268.4655 - mean_squared_error: 268.4655\n",
      "Epoch 28/50\n",
      "47/47 [==============================] - 1s 13ms/step - loss: 157.3663 - mean_squared_error: 157.3663\n",
      "Epoch 29/50\n",
      "47/47 [==============================] - 1s 12ms/step - loss: 142.5764 - mean_squared_error: 142.5764\n",
      "Epoch 30/50\n",
      "47/47 [==============================] - 0s 10ms/step - loss: 143.7576 - mean_squared_error: 143.7576\n",
      "Epoch 31/50\n",
      "47/47 [==============================] - 1s 11ms/step - loss: 150.4059 - mean_squared_error: 150.4059\n",
      "Epoch 32/50\n",
      "47/47 [==============================] - 0s 10ms/step - loss: 135.6557 - mean_squared_error: 135.6557\n",
      "Epoch 33/50\n",
      "47/47 [==============================] - 0s 11ms/step - loss: 136.3003 - mean_squared_error: 136.3003\n",
      "Epoch 34/50\n",
      "47/47 [==============================] - 1s 11ms/step - loss: 134.8096 - mean_squared_error: 134.8096\n",
      "Epoch 35/50\n",
      "47/47 [==============================] - 1s 11ms/step - loss: 129.4961 - mean_squared_error: 129.4961\n",
      "Epoch 36/50\n",
      "47/47 [==============================] - 1s 11ms/step - loss: 129.2504 - mean_squared_error: 129.2504\n",
      "Epoch 37/50\n",
      "47/47 [==============================] - 1s 11ms/step - loss: 128.3942 - mean_squared_error: 128.3942\n",
      "Epoch 38/50\n",
      "47/47 [==============================] - 1s 12ms/step - loss: 133.2119 - mean_squared_error: 133.2119\n",
      "Epoch 39/50\n",
      "47/47 [==============================] - 1s 12ms/step - loss: 128.6868 - mean_squared_error: 128.6868\n",
      "Epoch 40/50\n",
      "47/47 [==============================] - 1s 12ms/step - loss: 127.0881 - mean_squared_error: 127.0881\n",
      "Epoch 41/50\n",
      "47/47 [==============================] - 1s 12ms/step - loss: 129.5403 - mean_squared_error: 129.5403\n",
      "Epoch 42/50\n",
      "47/47 [==============================] - 1s 13ms/step - loss: 157.9351 - mean_squared_error: 157.9351\n",
      "Epoch 43/50\n",
      "47/47 [==============================] - 1s 12ms/step - loss: 133.0126 - mean_squared_error: 133.0126\n",
      "Epoch 44/50\n",
      "47/47 [==============================] - 1s 13ms/step - loss: 141.3532 - mean_squared_error: 141.3532\n",
      "Epoch 45/50\n",
      "47/47 [==============================] - 1s 13ms/step - loss: 128.9566 - mean_squared_error: 128.9566\n",
      "Epoch 46/50\n",
      "47/47 [==============================] - 1s 13ms/step - loss: 147.2345 - mean_squared_error: 147.2345\n",
      "Epoch 47/50\n",
      "47/47 [==============================] - 1s 12ms/step - loss: 153.2608 - mean_squared_error: 153.2608\n",
      "Epoch 48/50\n",
      "47/47 [==============================] - 1s 13ms/step - loss: 140.6573 - mean_squared_error: 140.6573\n",
      "Epoch 49/50\n",
      "47/47 [==============================] - 1s 13ms/step - loss: 131.5481 - mean_squared_error: 131.5481\n",
      "Epoch 50/50\n",
      "47/47 [==============================] - 1s 13ms/step - loss: 140.4814 - mean_squared_error: 140.4814\n"
     ]
    },
    {
     "data": {
      "text/plain": [
       "<keras.callbacks.History at 0x2ac31f4af10>"
      ]
     },
     "execution_count": 10,
     "metadata": {},
     "output_type": "execute_result"
    }
   ],
   "source": [
    "clear_session()\n",
    "model = Sequential()\n",
    "del model\n",
    "model = Sequential()\n",
    "\n",
    "model.add(Dense(40, input_shape=(X_train.shape[1],), kernel_initializer='normal', activation='relu', kernel_constraint = MaxNorm(4)))\n",
    "model.add(Dropout(0.0))\n",
    "model.add(Dense(60, kernel_initializer='normal', activation='relu', kernel_constraint = MaxNorm(2)))\n",
    "model.add(Dropout(0.05))\n",
    "model.add(Dense(50, kernel_initializer='normal', activation='relu', kernel_constraint = MaxNorm(2)))\n",
    "model.add(Dropout(0.05))\n",
    "model.add(Dense(30, kernel_initializer='normal', activation='relu', kernel_constraint = MaxNorm(2)))\n",
    "model.add(Dropout(0.05))\n",
    "model.add(Dense(20, kernel_initializer='normal', activation='relu', kernel_constraint = MaxNorm(2)))\n",
    "model.add(Dropout(0.05))\n",
    "model.add(Dense(10, kernel_initializer='normal', activation='relu', kernel_constraint = MaxNorm(2)))\n",
    "model.add(Dropout(0.05))\n",
    "model.add(Dense(1, kernel_initializer='normal', activation='relu'))\n",
    "\n",
    "# Compile model\n",
    "model.compile(loss='mean_squared_error', optimizer = tf.keras.optimizers.Adam(learning_rate = 0.01), metrics = ['mean_squared_error'])\n",
    "\n",
    "model.fit(X_train, y_train, epochs = 50, batch_size = 2000)"
   ]
  },
  {
   "cell_type": "code",
   "execution_count": 11,
   "id": "71923929",
   "metadata": {},
   "outputs": [],
   "source": [
    "#make predictions on the train and test set with the trained neural netowrk\n",
    "y_pred_test_original = model.predict(X_test)\n",
    "y_pred_train_original = model.predict(X_train)"
   ]
  },
  {
   "cell_type": "code",
   "execution_count": 12,
   "id": "84971261",
   "metadata": {},
   "outputs": [],
   "source": [
    "#save the original prediction without dropout at test time \n",
    "y_pred_test_original = y_pred_test_original.copy()\n",
    "y_pred_train_original = y_pred_train_original.copy()"
   ]
  },
  {
   "cell_type": "markdown",
   "id": "9fcdff58",
   "metadata": {},
   "source": [
    "Now the MonteCarlo Dropout technique is applied. "
   ]
  },
  {
   "cell_type": "code",
   "execution_count": 51,
   "id": "d34c3395",
   "metadata": {},
   "outputs": [],
   "source": [
    "#now rerun the training with training = TRUE\n",
    "class MontheCarloDropout(keras.layers.Dropout):\n",
    "    def call(self, inputs):\n",
    "        return super().call(inputs, training = True)"
   ]
  },
  {
   "cell_type": "code",
   "execution_count": 52,
   "id": "53390977",
   "metadata": {},
   "outputs": [],
   "source": [
    "#apply dropout also at test time in order to get many predictions!\n",
    "#with this, we can analyze the distribution or get the average\n",
    "def predict_dist(X, model, num_samples):\n",
    "    preds = [model(X, training=True) for _ in range(num_samples)]\n",
    "    return np.hstack(preds)\n",
    "\n",
    "def predict_point(X, model, num_samples):\n",
    "    pred_dist = predict_dist(X, model, num_samples)\n",
    "    return pred_dist.mean(axis=1)"
   ]
  },
  {
   "cell_type": "code",
   "execution_count": 53,
   "id": "52f97a3c",
   "metadata": {},
   "outputs": [],
   "source": [
    "#100 predictions per sample, plot distribution and a point estimate\n",
    "y_pred_test_dist = predict_dist(X_test, model, 1000)\n",
    "y_pred_test = predict_point(X_test, model, 1000)"
   ]
  },
  {
   "cell_type": "code",
   "execution_count": 22,
   "id": "8a3b0dc7",
   "metadata": {},
   "outputs": [],
   "source": [
    "y_pred_dist_train = predict_dist(X_train, model, 1000)\n",
    "y_pred_train = predict_point(X_train, model, 1000)"
   ]
  },
  {
   "cell_type": "code",
   "execution_count": 70,
   "id": "bbc43936",
   "metadata": {},
   "outputs": [
    {
     "name": "stderr",
     "output_type": "stream",
     "text": [
      "C:\\Users\\Shadow\\AppData\\Local\\Temp\\ipykernel_23492\\4011452436.py:2: FutureWarning: \n",
      "\n",
      "`shade` is now deprecated in favor of `fill`; setting `fill=True`.\n",
      "This will become an error in seaborn v0.14.0; please update your code.\n",
      "\n",
      "  sns.kdeplot(y_pred_test_dist[5], shade=True, color = \"lightgreen\", label = \"distribution of predictions\")\n"
     ]
    },
    {
     "data": {
      "image/png": "[encoded data removed]",
      "text/plain": [
       "<Figure size 640x480 with 1 Axes>"
      ]
     },
     "metadata": {},
     "output_type": "display_data"
    }
   ],
   "source": [
    "#visualize one distribution and the average value for the prediction\n",
    "sns.kdeplot(y_pred_test_dist[5], shade=True, color = \"lightgreen\", label = \"distribution of predictions\")\n",
    "plt.vlines(y_pred_test[5], 0, 2.5, color='green', label = \"mean prediction\")\n",
    "plt.legend(loc = \"upper right\")\n",
    "plt.title(\"Density Plot for Predictions and Mean Prediction\")\n",
    "plt.xlabel(\"Prediction\")\n",
    "plt.show()"
   ]
  },
  {
   "cell_type": "code",
   "execution_count": null,
   "id": "cad0c584",
   "metadata": {},
   "outputs": [],
   "source": [
    "#https://towardsdatascience.com/monte-carlo-dropout-7fd52f8b6571"
   ]
  },
  {
   "cell_type": "code",
   "execution_count": 23,
   "id": "7465025d",
   "metadata": {},
   "outputs": [
    {
     "name": "stdout",
     "output_type": "stream",
     "text": [
      "Monte Carlo Dropout test MAE =  3.4389741\n",
      "Monte Carlo Dropout test MSE =  110.988945\n",
      "Original Model test MAE =  3.3535175\n",
      "Original Model test MSE =  110.94073\n"
     ]
    }
   ],
   "source": [
    "#calculate error measures \n",
    "MSE = mean_squared_error(y_test , y_pred_test)\n",
    "MAE = mean_absolute_error(y_test, y_pred_test)\n",
    "print('Monte Carlo Dropout test MAE = ', MAE)\n",
    "print('Monte Carlo Dropout test MSE = ', MSE)\n",
    "\n",
    "MSE = mean_squared_error(y_test , y_pred_test_original)\n",
    "MAE = mean_absolute_error(y_test, y_pred_test_original)\n",
    "print('Original Model test MAE = ', MAE)\n",
    "print('Original Model test MSE = ', MSE)"
   ]
  },
  {
   "cell_type": "markdown",
   "id": "07d2c4af",
   "metadata": {},
   "source": [
    "Monte Carlo Dropout test MAE =  3.4389741\n",
    "Monte Carlo Dropout test MSE =  110.988945\n",
    "Original Model test MAE =  3.3535175\n",
    "Original Model test MSE =  110.94073"
   ]
  },
  {
   "cell_type": "code",
   "execution_count": 24,
   "id": "caa22f34",
   "metadata": {},
   "outputs": [
    {
     "name": "stdout",
     "output_type": "stream",
     "text": [
      "Monte Carlo Dropout train MAE =  3.450577\n",
      "Monte Carlo Dropout train MSE =  121.6971\n",
      "Original Model train MAE =  3.364123\n",
      "Original Model train MSE =  121.51235\n"
     ]
    }
   ],
   "source": [
    "MSE = mean_squared_error(y_train , y_pred_train)\n",
    "MAE = mean_absolute_error(y_train, y_pred_train)\n",
    "print('Monte Carlo Dropout train MAE = ', MAE)\n",
    "print('Monte Carlo Dropout train MSE = ', MSE)\n",
    "\n",
    "MSE = mean_squared_error(y_train , y_pred_train_original)\n",
    "MAE = mean_absolute_error(y_train, y_pred_train_original)\n",
    "print('Original Model train MAE = ', MAE)\n",
    "print('Original Model train MSE = ', MSE)\n"
   ]
  },
  {
   "cell_type": "markdown",
   "id": "76f91c25",
   "metadata": {},
   "source": [
    "Monte Carlo Dropout train MAE =  3.450577\n",
    "Monte Carlo Dropout train MSE =  121.6971\n",
    "Original Model train MAE =  3.364123\n",
    "Original Model train MSE =  121.51235"
   ]
  },
  {
   "cell_type": "markdown",
   "id": "2f7fbc72",
   "metadata": {},
   "source": [
    "Taking the mean of the distribution, does not improve the model but it builds a distribution around it which can help to assess the uncertainty. "
   ]
  }
 ],
 "metadata": {
  "kernelspec": {
   "display_name": "Python 3 (ipykernel)",
   "language": "python",
   "name": "python3"
  },
  "language_info": {
   "codemirror_mode": {
    "name": "ipython",
    "version": 3
   },
   "file_extension": ".py",
   "mimetype": "text/x-python",
   "name": "python",
   "nbconvert_exporter": "python",
   "pygments_lexer": "ipython3",
   "version": "3.9.12"
  }
 },
 "nbformat": 4,
 "nbformat_minor": 5
}
